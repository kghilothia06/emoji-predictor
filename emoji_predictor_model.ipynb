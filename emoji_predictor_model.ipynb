{
 "cells": [
  {
   "cell_type": "markdown",
   "metadata": {
    "id": "n4p2QNwsV7HQ"
   },
   "source": [
    "## **Data Pre-Processing**"
   ]
  },
  {
   "cell_type": "code",
   "execution_count": 1,
   "metadata": {
    "id": "uG2bz68zV7HT"
   },
   "outputs": [],
   "source": [
    "import pandas as pd\n",
    "import numpy as np"
   ]
  },
  {
   "cell_type": "code",
   "execution_count": 2,
   "metadata": {
    "id": "O_epj4MqV7HV"
   },
   "outputs": [],
   "source": [
    "df_train = pd.read_csv('train_emoji.csv',header=None)"
   ]
  },
  {
   "cell_type": "code",
   "execution_count": 3,
   "metadata": {
    "colab": {
     "base_uri": "https://localhost:8080/"
    },
    "id": "sKTQA8bTV7HY",
    "outputId": "fc7f769d-4d24-4e7f-e0d3-408b934b7226"
   },
   "outputs": [
    {
     "data": {
      "text/plain": [
       "(132, 4)"
      ]
     },
     "execution_count": 3,
     "metadata": {},
     "output_type": "execute_result"
    }
   ],
   "source": [
    "df_train.shape"
   ]
  },
  {
   "cell_type": "code",
   "execution_count": 4,
   "metadata": {
    "colab": {
     "base_uri": "https://localhost:8080/",
     "height": 355
    },
    "id": "p4EJU8EKV7Hc",
    "outputId": "f886dff2-89f7-43be-d051-646c01ce6d8c"
   },
   "outputs": [
    {
     "data": {
      "text/html": [
       "<div>\n",
       "<style scoped>\n",
       "    .dataframe tbody tr th:only-of-type {\n",
       "        vertical-align: middle;\n",
       "    }\n",
       "\n",
       "    .dataframe tbody tr th {\n",
       "        vertical-align: top;\n",
       "    }\n",
       "\n",
       "    .dataframe thead th {\n",
       "        text-align: right;\n",
       "    }\n",
       "</style>\n",
       "<table border=\"1\" class=\"dataframe\">\n",
       "  <thead>\n",
       "    <tr style=\"text-align: right;\">\n",
       "      <th></th>\n",
       "      <th>0</th>\n",
       "      <th>1</th>\n",
       "      <th>2</th>\n",
       "      <th>3</th>\n",
       "    </tr>\n",
       "  </thead>\n",
       "  <tbody>\n",
       "    <tr>\n",
       "      <th>0</th>\n",
       "      <td>never talk to me again</td>\n",
       "      <td>3</td>\n",
       "      <td>NaN</td>\n",
       "      <td>NaN</td>\n",
       "    </tr>\n",
       "    <tr>\n",
       "      <th>1</th>\n",
       "      <td>I am proud of your achievements</td>\n",
       "      <td>2</td>\n",
       "      <td>NaN</td>\n",
       "      <td>NaN</td>\n",
       "    </tr>\n",
       "    <tr>\n",
       "      <th>2</th>\n",
       "      <td>It is the worst day in my life</td>\n",
       "      <td>3</td>\n",
       "      <td>NaN</td>\n",
       "      <td>NaN</td>\n",
       "    </tr>\n",
       "    <tr>\n",
       "      <th>3</th>\n",
       "      <td>Miss you so much</td>\n",
       "      <td>0</td>\n",
       "      <td>NaN</td>\n",
       "      <td>[0]</td>\n",
       "    </tr>\n",
       "    <tr>\n",
       "      <th>4</th>\n",
       "      <td>food is life</td>\n",
       "      <td>4</td>\n",
       "      <td>NaN</td>\n",
       "      <td>NaN</td>\n",
       "    </tr>\n",
       "    <tr>\n",
       "      <th>5</th>\n",
       "      <td>I love you mum</td>\n",
       "      <td>0</td>\n",
       "      <td>NaN</td>\n",
       "      <td>NaN</td>\n",
       "    </tr>\n",
       "    <tr>\n",
       "      <th>6</th>\n",
       "      <td>Stop saying bullshit</td>\n",
       "      <td>3</td>\n",
       "      <td>NaN</td>\n",
       "      <td>NaN</td>\n",
       "    </tr>\n",
       "    <tr>\n",
       "      <th>7</th>\n",
       "      <td>congratulations on your acceptance</td>\n",
       "      <td>2</td>\n",
       "      <td>NaN</td>\n",
       "      <td>NaN</td>\n",
       "    </tr>\n",
       "    <tr>\n",
       "      <th>8</th>\n",
       "      <td>The assignment is too long</td>\n",
       "      <td>3</td>\n",
       "      <td>NaN</td>\n",
       "      <td>NaN</td>\n",
       "    </tr>\n",
       "    <tr>\n",
       "      <th>9</th>\n",
       "      <td>I want to go play</td>\n",
       "      <td>1</td>\n",
       "      <td>NaN</td>\n",
       "      <td>[3]</td>\n",
       "    </tr>\n",
       "  </tbody>\n",
       "</table>\n",
       "</div>"
      ],
      "text/plain": [
       "                                    0  1   2     3\n",
       "0              never talk to me again  3 NaN   NaN\n",
       "1     I am proud of your achievements  2 NaN   NaN\n",
       "2      It is the worst day in my life  3 NaN   NaN\n",
       "3                    Miss you so much  0 NaN   [0]\n",
       "4                        food is life  4 NaN   NaN\n",
       "5                      I love you mum  0 NaN   NaN\n",
       "6                Stop saying bullshit  3 NaN   NaN\n",
       "7  congratulations on your acceptance  2 NaN   NaN\n",
       "8         The assignment is too long   3 NaN   NaN\n",
       "9                   I want to go play  1 NaN   [3]"
      ]
     },
     "execution_count": 4,
     "metadata": {},
     "output_type": "execute_result"
    }
   ],
   "source": [
    "df_train.head(10)"
   ]
  },
  {
   "cell_type": "code",
   "execution_count": 5,
   "metadata": {
    "colab": {
     "base_uri": "https://localhost:8080/"
    },
    "id": "t3kq1oXFiqCL",
    "outputId": "c94775c8-2a84-4d50-db10-617c76607d04"
   },
   "outputs": [
    {
     "data": {
      "text/plain": [
       "2    38\n",
       "3    36\n",
       "0    22\n",
       "1    19\n",
       "4    17\n",
       "Name: 1, dtype: int64"
      ]
     },
     "execution_count": 5,
     "metadata": {},
     "output_type": "execute_result"
    }
   ],
   "source": [
    "df_train[1].value_counts()"
   ]
  },
  {
   "cell_type": "code",
   "execution_count": 6,
   "metadata": {
    "id": "lmp8YMvNV7Hg"
   },
   "outputs": [],
   "source": [
    "df_test = pd.read_csv('test_emoji.csv',header=None)"
   ]
  },
  {
   "cell_type": "code",
   "execution_count": 7,
   "metadata": {
    "colab": {
     "base_uri": "https://localhost:8080/"
    },
    "id": "wEb6dCmkV7Hh",
    "outputId": "2e19e27f-513d-452e-f644-4782ce6b5a7f"
   },
   "outputs": [
    {
     "data": {
      "text/plain": [
       "(56, 2)"
      ]
     },
     "execution_count": 7,
     "metadata": {},
     "output_type": "execute_result"
    }
   ],
   "source": [
    "df_test.shape"
   ]
  },
  {
   "cell_type": "code",
   "execution_count": 8,
   "metadata": {
    "colab": {
     "base_uri": "https://localhost:8080/",
     "height": 355
    },
    "id": "u3CUazZlV7Hj",
    "outputId": "616a4096-c24a-46f6-b778-106c7df3dfad"
   },
   "outputs": [
    {
     "data": {
      "text/html": [
       "<div>\n",
       "<style scoped>\n",
       "    .dataframe tbody tr th:only-of-type {\n",
       "        vertical-align: middle;\n",
       "    }\n",
       "\n",
       "    .dataframe tbody tr th {\n",
       "        vertical-align: top;\n",
       "    }\n",
       "\n",
       "    .dataframe thead th {\n",
       "        text-align: right;\n",
       "    }\n",
       "</style>\n",
       "<table border=\"1\" class=\"dataframe\">\n",
       "  <thead>\n",
       "    <tr style=\"text-align: right;\">\n",
       "      <th></th>\n",
       "      <th>0</th>\n",
       "      <th>1</th>\n",
       "    </tr>\n",
       "  </thead>\n",
       "  <tbody>\n",
       "    <tr>\n",
       "      <th>0</th>\n",
       "      <td>I want to eat\\t</td>\n",
       "      <td>4</td>\n",
       "    </tr>\n",
       "    <tr>\n",
       "      <th>1</th>\n",
       "      <td>he did not answer\\t</td>\n",
       "      <td>3</td>\n",
       "    </tr>\n",
       "    <tr>\n",
       "      <th>2</th>\n",
       "      <td>he got a raise\\t</td>\n",
       "      <td>2</td>\n",
       "    </tr>\n",
       "    <tr>\n",
       "      <th>3</th>\n",
       "      <td>she got me a present\\t</td>\n",
       "      <td>0</td>\n",
       "    </tr>\n",
       "    <tr>\n",
       "      <th>4</th>\n",
       "      <td>ha ha ha it was so funny\\t</td>\n",
       "      <td>2</td>\n",
       "    </tr>\n",
       "    <tr>\n",
       "      <th>5</th>\n",
       "      <td>he is a good friend\\t</td>\n",
       "      <td>0</td>\n",
       "    </tr>\n",
       "    <tr>\n",
       "      <th>6</th>\n",
       "      <td>I am upset\\t</td>\n",
       "      <td>0</td>\n",
       "    </tr>\n",
       "    <tr>\n",
       "      <th>7</th>\n",
       "      <td>We had such a lovely dinner tonight\\t</td>\n",
       "      <td>0</td>\n",
       "    </tr>\n",
       "    <tr>\n",
       "      <th>8</th>\n",
       "      <td>where is the food\\t</td>\n",
       "      <td>4</td>\n",
       "    </tr>\n",
       "    <tr>\n",
       "      <th>9</th>\n",
       "      <td>Stop making this joke ha ha ha\\t</td>\n",
       "      <td>2</td>\n",
       "    </tr>\n",
       "  </tbody>\n",
       "</table>\n",
       "</div>"
      ],
      "text/plain": [
       "                                       0  1\n",
       "0                        I want to eat\\t  4\n",
       "1                    he did not answer\\t  3\n",
       "2                       he got a raise\\t  2\n",
       "3                 she got me a present\\t  0\n",
       "4             ha ha ha it was so funny\\t  2\n",
       "5                  he is a good friend\\t  0\n",
       "6                           I am upset\\t  0\n",
       "7  We had such a lovely dinner tonight\\t  0\n",
       "8                    where is the food\\t  4\n",
       "9       Stop making this joke ha ha ha\\t  2"
      ]
     },
     "execution_count": 8,
     "metadata": {},
     "output_type": "execute_result"
    }
   ],
   "source": [
    "df_test.head(10)"
   ]
  },
  {
   "cell_type": "code",
   "execution_count": 9,
   "metadata": {
    "id": "1Mvjum7MV7Hk"
   },
   "outputs": [],
   "source": [
    "X_train = df_train[0]\n",
    "y_train = df_train[1]\n",
    "\n",
    "X_test = df_test[0]\n",
    "y_test = df_test[1]"
   ]
  },
  {
   "cell_type": "code",
   "execution_count": 10,
   "metadata": {
    "colab": {
     "base_uri": "https://localhost:8080/"
    },
    "id": "DbeH7znInzq0",
    "outputId": "b5f09e3f-ad88-4d55-9d43-a262f999ced5"
   },
   "outputs": [
    {
     "data": {
      "text/plain": [
       "0      3\n",
       "1      2\n",
       "2      3\n",
       "3      0\n",
       "4      4\n",
       "      ..\n",
       "127    1\n",
       "128    4\n",
       "129    3\n",
       "130    0\n",
       "131    2\n",
       "Name: 1, Length: 132, dtype: int64"
      ]
     },
     "execution_count": 10,
     "metadata": {},
     "output_type": "execute_result"
    }
   ],
   "source": [
    "y_train"
   ]
  },
  {
   "cell_type": "code",
   "execution_count": 11,
   "metadata": {
    "colab": {
     "base_uri": "https://localhost:8080/"
    },
    "id": "KLwQw238nwAA",
    "outputId": "a63659b8-31b0-47fe-db19-94520109d87d"
   },
   "outputs": [
    {
     "data": {
      "text/plain": [
       "0               never talk to me again\n",
       "1      I am proud of your achievements\n",
       "2       It is the worst day in my life\n",
       "3                     Miss you so much\n",
       "4                         food is life\n",
       "                    ...               \n",
       "127          he had to make a home run\n",
       "128                 I am ordering food\n",
       "129             What is wrong with you\n",
       "130                         I love you\n",
       "131                          great job\n",
       "Name: 0, Length: 132, dtype: object"
      ]
     },
     "execution_count": 11,
     "metadata": {},
     "output_type": "execute_result"
    }
   ],
   "source": [
    "X_train"
   ]
  },
  {
   "cell_type": "code",
   "execution_count": 12,
   "metadata": {
    "colab": {
     "base_uri": "https://localhost:8080/"
    },
    "id": "HC9qgOeoV7Hl",
    "outputId": "dffc962a-20fa-4909-b40a-ec235f4438c5"
   },
   "outputs": [
    {
     "name": "stdout",
     "output_type": "stream",
     "text": [
      "10\n"
     ]
    }
   ],
   "source": [
    "#figure out max length of a sentence in X_train and X_test\n",
    "maxlen=0\n",
    "for i in X_train:\n",
    "    maxlen = max(maxlen , len(i.split()))\n",
    "    #print(len(i.split()))\n",
    "\n",
    "for i in X_test:\n",
    "    maxlen = max(maxlen , len(i.split()))    \n",
    "\n",
    "print(maxlen)"
   ]
  },
  {
   "cell_type": "code",
   "execution_count": 13,
   "metadata": {
    "colab": {
     "base_uri": "https://localhost:8080/"
    },
    "id": "0QRt6py-V7Hn",
    "outputId": "dfde0f49-1a58-4f82-99ea-0eca1b41e595"
   },
   "outputs": [
    {
     "data": {
      "text/plain": [
       "132"
      ]
     },
     "execution_count": 13,
     "metadata": {},
     "output_type": "execute_result"
    }
   ],
   "source": [
    "X_train.shape[0]"
   ]
  },
  {
   "cell_type": "code",
   "execution_count": 14,
   "metadata": {
    "colab": {
     "base_uri": "https://localhost:8080/"
    },
    "id": "_9fZh_9OV7Ho",
    "outputId": "cb6dde75-8764-466f-f2f8-2ce1260b2522"
   },
   "outputs": [
    {
     "data": {
      "text/plain": [
       "56"
      ]
     },
     "execution_count": 14,
     "metadata": {},
     "output_type": "execute_result"
    }
   ],
   "source": [
    "X_test.shape[0]"
   ]
  },
  {
   "cell_type": "code",
   "execution_count": 15,
   "metadata": {
    "colab": {
     "base_uri": "https://localhost:8080/"
    },
    "id": "YQSCQQAZV7Hr",
    "outputId": "22e6bfc8-9af3-4c48-ce30-34a80d70eded"
   },
   "outputs": [
    {
     "name": "stdout",
     "output_type": "stream",
     "text": [
      "['never', 'talk', 'to', 'me', 'again']\n",
      "never\n",
      "talk\n",
      "to\n",
      "me\n",
      "again\n"
     ]
    }
   ],
   "source": [
    "#tokenization of a sentence\n",
    "for ix in range(X_train.shape[0]):\n",
    "    fd = X_train[ix].split()\n",
    "    print(fd)\n",
    "    for ij in range(len(fd)):\n",
    "        print(fd[ij])\n",
    "    break"
   ]
  },
  {
   "cell_type": "code",
   "execution_count": 16,
   "metadata": {
    "colab": {
     "base_uri": "https://localhost:8080/"
    },
    "id": "KAPWOZg2W4-a",
    "outputId": "0e17397d-c802-4c73-839b-09496c7facc7"
   },
   "outputs": [
    {
     "data": {
      "text/plain": [
       "pandas.core.series.Series"
      ]
     },
     "execution_count": 16,
     "metadata": {},
     "output_type": "execute_result"
    }
   ],
   "source": [
    "type(X_train)"
   ]
  },
  {
   "cell_type": "code",
   "execution_count": 17,
   "metadata": {
    "colab": {
     "base_uri": "https://localhost:8080/",
     "height": 35
    },
    "id": "zCLUeqZm9xGy",
    "outputId": "42e89f94-6a1e-48f9-f1f2-48636a4b66de"
   },
   "outputs": [
    {
     "data": {
      "text/plain": [
       "'never talk to me again'"
      ]
     },
     "execution_count": 17,
     "metadata": {},
     "output_type": "execute_result"
    }
   ],
   "source": [
    "X_train[0]"
   ]
  },
  {
   "cell_type": "markdown",
   "metadata": {
    "id": "9rF9z4OIV7Hw"
   },
   "source": [
    "# Converting Sentences into embeddings \n",
    "# using Glove vector"
   ]
  },
  {
   "cell_type": "code",
   "execution_count": 18,
   "metadata": {
    "id": "L5lcU4IpV7Hx"
   },
   "outputs": [],
   "source": [
    "f = open('glove.6B.50d.txt' , encoding='utf8')"
   ]
  },
  {
   "cell_type": "code",
   "execution_count": 19,
   "metadata": {
    "id": "wJldOW6qV7Hy"
   },
   "outputs": [],
   "source": [
    "#make our own word embedding dictionary\n",
    "embeddings_idx={}\n",
    "\n",
    "for line in f:\n",
    "    values = line.split()\n",
    "    #print(values[0])\n",
    "    #print(values[1:])\n",
    "    word = values[0]\n",
    "    coefs = np.asarray(values[1:],dtype='float')\n",
    "    #print(word,coefs)\n",
    "    embeddings_idx[word] = coefs\n",
    "\n",
    "f.close()"
   ]
  },
  {
   "cell_type": "code",
   "execution_count": 20,
   "metadata": {
    "colab": {
     "base_uri": "https://localhost:8080/"
    },
    "id": "rumIDpU3V7Hz",
    "outputId": "25cd189b-bfbe-4f4c-87bc-3b9e8ad082d7"
   },
   "outputs": [
    {
     "data": {
      "text/plain": [
       "(50,)"
      ]
     },
     "execution_count": 20,
     "metadata": {},
     "output_type": "execute_result"
    }
   ],
   "source": [
    "embeddings_idx[\"vacation\"].shape"
   ]
  },
  {
   "cell_type": "markdown",
   "metadata": {
    "id": "i-LL7ZsXV7H0"
   },
   "source": [
    "function to make word embeddings for each word in each sentence"
   ]
  },
  {
   "cell_type": "code",
   "execution_count": 21,
   "metadata": {
    "id": "gDK3T_kfn05H"
   },
   "outputs": [],
   "source": [
    "#maxlen of a sentence\n",
    "maxlen = 10"
   ]
  },
  {
   "cell_type": "code",
   "execution_count": 22,
   "metadata": {
    "id": "oumUbmuDV7H0"
   },
   "outputs": [],
   "source": [
    "def embedding_output(X):\n",
    "    \n",
    "    #embedding dimension\n",
    "    emb_dim = 50\n",
    "    #batch size\n",
    "    batch_size = X.shape[0]\n",
    "    #output of the function\n",
    "    embedding_out = np.zeros((batch_size , maxlen , emb_dim))\n",
    "    \n",
    "    for ix in range(X.shape[0]):\n",
    "        #tokenize current sentence\n",
    "        X[ix] = X[ix].split()\n",
    "        \n",
    "        for ij in range(len(X[ix])):\n",
    "            #get current word's embedding from 'glove' embeddings iff that word is present \n",
    "            if X[ix][ij].lower() in embeddings_idx.keys() and ij < maxlen:\n",
    "                embedding_out[ix][ij] = embeddings_idx[X[ix][ij].lower()]\n",
    "    \n",
    "    return embedding_out\n",
    "    "
   ]
  },
  {
   "cell_type": "code",
   "execution_count": 23,
   "metadata": {
    "colab": {
     "base_uri": "https://localhost:8080/"
    },
    "id": "kF0KMEP3V7H2",
    "outputId": "6105c9f4-0307-4f2f-d92c-9896cfdb0cf7"
   },
   "outputs": [
    {
     "name": "stderr",
     "output_type": "stream",
     "text": [
      "<ipython-input-22-839e6458a7bd>:12: SettingWithCopyWarning: \n",
      "A value is trying to be set on a copy of a slice from a DataFrame\n",
      "\n",
      "See the caveats in the documentation: https://pandas.pydata.org/pandas-docs/stable/user_guide/indexing.html#returning-a-view-versus-a-copy\n",
      "  X[ix] = X[ix].split()\n"
     ]
    }
   ],
   "source": [
    "embedding_matrix_train = embedding_output(X_train)\n",
    "embedding_matrix_test = embedding_output(X_test)"
   ]
  },
  {
   "cell_type": "code",
   "execution_count": 24,
   "metadata": {
    "colab": {
     "base_uri": "https://localhost:8080/"
    },
    "id": "ZanMJlhGV7H3",
    "outputId": "2c9a888a-422d-4fc4-8ae1-2b89d658eac5"
   },
   "outputs": [
    {
     "data": {
      "text/plain": [
       "['I', 'am', 'proud', 'of', 'your', 'achievements']"
      ]
     },
     "execution_count": 24,
     "metadata": {},
     "output_type": "execute_result"
    }
   ],
   "source": [
    "X_train[1]"
   ]
  },
  {
   "cell_type": "code",
   "execution_count": 25,
   "metadata": {
    "colab": {
     "base_uri": "https://localhost:8080/"
    },
    "id": "KsjBVLhhV7H4",
    "outputId": "686d51ba-5968-4fe4-c0be-9743db5e688a"
   },
   "outputs": [
    {
     "data": {
      "text/plain": [
       "(132, 10, 50)"
      ]
     },
     "execution_count": 25,
     "metadata": {},
     "output_type": "execute_result"
    }
   ],
   "source": [
    "embedding_matrix_train.shape"
   ]
  },
  {
   "cell_type": "code",
   "execution_count": 26,
   "metadata": {
    "colab": {
     "base_uri": "https://localhost:8080/"
    },
    "id": "kNNlyw_PV7H4",
    "outputId": "d19c7f00-e5b6-426c-fa2a-8b98b20d49e6"
   },
   "outputs": [
    {
     "data": {
      "text/plain": [
       "(56, 10, 50)"
      ]
     },
     "execution_count": 26,
     "metadata": {},
     "output_type": "execute_result"
    }
   ],
   "source": [
    "embedding_matrix_test.shape"
   ]
  },
  {
   "cell_type": "code",
   "execution_count": 27,
   "metadata": {
    "colab": {
     "base_uri": "https://localhost:8080/"
    },
    "id": "ZeSiI9Bs-ye8",
    "outputId": "0d947f6b-1b3d-4432-eba1-f92d622fc2bc"
   },
   "outputs": [
    {
     "data": {
      "text/plain": [
       "array([[ 1.1891e-01,  1.5255e-01, -8.2073e-02, -7.4144e-01,  7.5917e-01,\n",
       "        -4.8328e-01, -3.1009e-01,  5.1476e-01, -9.8708e-01,  6.1757e-04,\n",
       "        -1.5043e-01,  8.3770e-01, -1.0797e+00, -5.1460e-01,  1.3188e+00,\n",
       "         6.2007e-01,  1.3779e-01,  4.7108e-01, -7.2874e-02, -7.2675e-01,\n",
       "        -7.4116e-01,  7.5263e-01,  8.8180e-01,  2.9561e-01,  1.3548e+00,\n",
       "        -2.5701e+00, -1.3523e+00,  4.5880e-01,  1.0068e+00, -1.1856e+00,\n",
       "         3.4737e+00,  7.7898e-01, -7.2929e-01,  2.5102e-01, -2.6156e-01,\n",
       "        -3.4684e-01,  5.5841e-01,  7.5098e-01,  4.9830e-01, -2.6823e-01,\n",
       "        -2.7443e-03, -1.8298e-02, -2.8096e-01,  5.5318e-01,  3.7706e-02,\n",
       "         1.8555e-01, -1.5025e-01, -5.7512e-01, -2.6671e-01,  9.2121e-01],\n",
       "       [ 3.4664e-01,  3.9805e-01,  4.8970e-01, -5.1421e-01,  5.4574e-01,\n",
       "        -1.2005e+00,  3.2107e-01,  7.4004e-01, -1.4979e+00, -1.9651e-01,\n",
       "        -1.2631e-01, -3.7703e-01, -6.2569e-01,  3.8792e-02,  1.0579e+00,\n",
       "         7.7199e-01, -1.8589e-01,  1.3032e+00, -7.2128e-01,  4.0231e-01,\n",
       "         6.6442e-02,  1.2315e+00,  9.3956e-01,  1.3903e+00,  1.5334e+00,\n",
       "        -1.4730e+00, -3.4997e-01,  3.1562e-01,  9.0691e-01,  4.5498e-01,\n",
       "         2.5481e+00,  1.6410e-01, -6.0700e-01,  2.7061e-01, -7.9072e-01,\n",
       "        -1.1460e+00,  9.1795e-01, -1.1797e-01,  2.3526e-01, -1.2659e-01,\n",
       "         6.6527e-01, -9.1816e-01,  1.0048e-01,  7.0457e-01, -2.1777e-01,\n",
       "         5.2479e-01, -5.4452e-01,  8.6576e-02,  3.4037e-01,  1.3588e+00],\n",
       "       [-5.9180e-01,  2.7671e-01, -4.6971e-01, -5.4743e-01,  1.3504e+00,\n",
       "        -6.3907e-01, -6.8190e-01,  5.4207e-01, -4.0552e-01,  1.1271e-01,\n",
       "         1.5640e-01,  2.1604e-01, -3.5073e-02, -3.0228e-01,  1.5753e-01,\n",
       "        -1.0437e-01,  6.4561e-01,  1.0843e+00,  2.8788e-01, -2.4031e-01,\n",
       "        -1.2893e+00,  8.2949e-01, -4.4547e-01,  1.1085e-01,  1.1249e+00,\n",
       "        -1.5474e+00, -1.3967e+00,  1.3930e-01,  2.3133e-01, -4.6974e-01,\n",
       "         1.5829e+00,  8.7095e-01,  1.3645e-01,  4.7461e-02, -3.7914e-01,\n",
       "        -4.5608e-01,  3.3173e-02,  3.9443e-01, -6.7186e-01, -9.2765e-01,\n",
       "        -1.9048e-01, -5.9441e-01, -4.6391e-02,  1.4051e-01,  3.2863e-02,\n",
       "         4.2813e-01, -1.3888e+00, -2.0055e-01, -2.6487e-01,  5.7981e-01],\n",
       "       [ 7.0853e-01,  5.7088e-01, -4.7160e-01,  1.8048e-01,  5.4449e-01,\n",
       "         7.2603e-01,  1.8157e-01, -5.2393e-01,  1.0381e-01, -1.7566e-01,\n",
       "         7.8852e-02, -3.6216e-01, -1.1829e-01, -8.3336e-01,  1.1917e-01,\n",
       "        -1.6605e-01,  6.1555e-02, -1.2719e-02, -5.6623e-01,  1.3616e-02,\n",
       "         2.2851e-01, -1.4396e-01, -6.7549e-02, -3.8157e-01, -2.3698e-01,\n",
       "        -1.7037e+00, -8.6692e-01, -2.6704e-01, -2.5890e-01,  1.7670e-01,\n",
       "         3.8676e+00, -1.6130e-01, -1.3273e-01, -6.8881e-01,  1.8444e-01,\n",
       "         5.2464e-03, -3.3874e-01, -7.8956e-02,  2.4185e-01,  3.6576e-01,\n",
       "        -3.4727e-01,  2.8483e-01,  7.5693e-02, -6.2178e-02, -3.8988e-01,\n",
       "         2.2902e-01, -2.1617e-01, -2.2562e-01, -9.3918e-02, -8.0375e-01],\n",
       "       [-2.9163e-02,  8.1769e-01,  3.8470e-01, -7.7857e-01,  1.1049e+00,\n",
       "        -1.3655e-01, -2.4691e-02, -5.1103e-02,  7.7950e-01,  5.1357e-02,\n",
       "        -3.5748e-01,  1.1748e+00, -9.8244e-02,  3.3111e-01,  4.0426e-01,\n",
       "         5.8685e-01, -6.2536e-01,  9.4833e-02,  9.7024e-01, -1.1437e+00,\n",
       "         1.3826e-01,  2.8136e-01,  4.6693e-01,  3.5226e-01,  6.8916e-01,\n",
       "        -1.9819e+00, -1.4000e+00,  1.7001e-01,  1.5929e+00, -1.0086e+00,\n",
       "         3.6499e+00,  1.3949e+00, -7.8823e-01,  4.0404e-01, -3.6925e-01,\n",
       "         7.3075e-01,  2.7513e-02, -1.1993e-01,  7.3716e-01, -1.0365e+00,\n",
       "         6.8659e-01, -3.0294e-01, -5.5175e-01,  9.6466e-01,  5.3103e-02,\n",
       "        -8.4807e-02,  8.5120e-01, -5.4186e-01,  3.2453e-01,  5.8425e-01],\n",
       "       [-5.1933e-01,  1.3668e+00, -6.8740e-01,  9.5220e-02,  1.8607e-01,\n",
       "        -3.3386e-01, -5.0129e-02, -4.0298e-01,  3.3373e-01,  6.5225e-01,\n",
       "         7.1441e-02,  1.3055e-01, -4.4386e-01, -5.1709e-01, -2.6607e-02,\n",
       "        -8.6961e-01,  3.7729e-01,  2.4573e-01,  5.7149e-01, -1.0095e-01,\n",
       "        -2.4548e-02,  3.2306e-02, -3.1729e-01, -1.5872e+00,  1.1099e+00,\n",
       "        -5.7050e-01, -1.4604e+00, -7.8591e-01, -7.2441e-01,  2.7899e-01,\n",
       "         2.1267e+00,  1.0762e+00,  2.7505e-01, -1.2648e+00, -7.4705e-02,\n",
       "         4.6280e-01, -3.6034e-01,  1.2466e+00, -1.3165e+00, -4.1516e-02,\n",
       "        -9.7747e-01, -6.4918e-01, -2.8247e-01, -3.4909e-01, -5.0508e-01,\n",
       "         1.9245e-02, -4.9630e-01,  1.0545e+00, -1.9404e-01, -7.0951e-01],\n",
       "       [ 0.0000e+00,  0.0000e+00,  0.0000e+00,  0.0000e+00,  0.0000e+00,\n",
       "         0.0000e+00,  0.0000e+00,  0.0000e+00,  0.0000e+00,  0.0000e+00,\n",
       "         0.0000e+00,  0.0000e+00,  0.0000e+00,  0.0000e+00,  0.0000e+00,\n",
       "         0.0000e+00,  0.0000e+00,  0.0000e+00,  0.0000e+00,  0.0000e+00,\n",
       "         0.0000e+00,  0.0000e+00,  0.0000e+00,  0.0000e+00,  0.0000e+00,\n",
       "         0.0000e+00,  0.0000e+00,  0.0000e+00,  0.0000e+00,  0.0000e+00,\n",
       "         0.0000e+00,  0.0000e+00,  0.0000e+00,  0.0000e+00,  0.0000e+00,\n",
       "         0.0000e+00,  0.0000e+00,  0.0000e+00,  0.0000e+00,  0.0000e+00,\n",
       "         0.0000e+00,  0.0000e+00,  0.0000e+00,  0.0000e+00,  0.0000e+00,\n",
       "         0.0000e+00,  0.0000e+00,  0.0000e+00,  0.0000e+00,  0.0000e+00],\n",
       "       [ 0.0000e+00,  0.0000e+00,  0.0000e+00,  0.0000e+00,  0.0000e+00,\n",
       "         0.0000e+00,  0.0000e+00,  0.0000e+00,  0.0000e+00,  0.0000e+00,\n",
       "         0.0000e+00,  0.0000e+00,  0.0000e+00,  0.0000e+00,  0.0000e+00,\n",
       "         0.0000e+00,  0.0000e+00,  0.0000e+00,  0.0000e+00,  0.0000e+00,\n",
       "         0.0000e+00,  0.0000e+00,  0.0000e+00,  0.0000e+00,  0.0000e+00,\n",
       "         0.0000e+00,  0.0000e+00,  0.0000e+00,  0.0000e+00,  0.0000e+00,\n",
       "         0.0000e+00,  0.0000e+00,  0.0000e+00,  0.0000e+00,  0.0000e+00,\n",
       "         0.0000e+00,  0.0000e+00,  0.0000e+00,  0.0000e+00,  0.0000e+00,\n",
       "         0.0000e+00,  0.0000e+00,  0.0000e+00,  0.0000e+00,  0.0000e+00,\n",
       "         0.0000e+00,  0.0000e+00,  0.0000e+00,  0.0000e+00,  0.0000e+00],\n",
       "       [ 0.0000e+00,  0.0000e+00,  0.0000e+00,  0.0000e+00,  0.0000e+00,\n",
       "         0.0000e+00,  0.0000e+00,  0.0000e+00,  0.0000e+00,  0.0000e+00,\n",
       "         0.0000e+00,  0.0000e+00,  0.0000e+00,  0.0000e+00,  0.0000e+00,\n",
       "         0.0000e+00,  0.0000e+00,  0.0000e+00,  0.0000e+00,  0.0000e+00,\n",
       "         0.0000e+00,  0.0000e+00,  0.0000e+00,  0.0000e+00,  0.0000e+00,\n",
       "         0.0000e+00,  0.0000e+00,  0.0000e+00,  0.0000e+00,  0.0000e+00,\n",
       "         0.0000e+00,  0.0000e+00,  0.0000e+00,  0.0000e+00,  0.0000e+00,\n",
       "         0.0000e+00,  0.0000e+00,  0.0000e+00,  0.0000e+00,  0.0000e+00,\n",
       "         0.0000e+00,  0.0000e+00,  0.0000e+00,  0.0000e+00,  0.0000e+00,\n",
       "         0.0000e+00,  0.0000e+00,  0.0000e+00,  0.0000e+00,  0.0000e+00],\n",
       "       [ 0.0000e+00,  0.0000e+00,  0.0000e+00,  0.0000e+00,  0.0000e+00,\n",
       "         0.0000e+00,  0.0000e+00,  0.0000e+00,  0.0000e+00,  0.0000e+00,\n",
       "         0.0000e+00,  0.0000e+00,  0.0000e+00,  0.0000e+00,  0.0000e+00,\n",
       "         0.0000e+00,  0.0000e+00,  0.0000e+00,  0.0000e+00,  0.0000e+00,\n",
       "         0.0000e+00,  0.0000e+00,  0.0000e+00,  0.0000e+00,  0.0000e+00,\n",
       "         0.0000e+00,  0.0000e+00,  0.0000e+00,  0.0000e+00,  0.0000e+00,\n",
       "         0.0000e+00,  0.0000e+00,  0.0000e+00,  0.0000e+00,  0.0000e+00,\n",
       "         0.0000e+00,  0.0000e+00,  0.0000e+00,  0.0000e+00,  0.0000e+00,\n",
       "         0.0000e+00,  0.0000e+00,  0.0000e+00,  0.0000e+00,  0.0000e+00,\n",
       "         0.0000e+00,  0.0000e+00,  0.0000e+00,  0.0000e+00,  0.0000e+00]])"
      ]
     },
     "execution_count": 27,
     "metadata": {},
     "output_type": "execute_result"
    }
   ],
   "source": [
    "embedding_matrix_train[1]"
   ]
  },
  {
   "cell_type": "markdown",
   "metadata": {
    "id": "nnXcpP5Ja0IQ"
   },
   "source": [
    "convert y_train & y_test to one hot vectors"
   ]
  },
  {
   "cell_type": "code",
   "execution_count": 28,
   "metadata": {
    "id": "7uyOi5F_aw5K"
   },
   "outputs": [],
   "source": [
    "from keras.utils import to_categorical"
   ]
  },
  {
   "cell_type": "code",
   "execution_count": 29,
   "metadata": {
    "id": "bjkw5maraxx0"
   },
   "outputs": [],
   "source": [
    "y_train = to_categorical(y_train , num_classes=5)"
   ]
  },
  {
   "cell_type": "code",
   "execution_count": 30,
   "metadata": {
    "id": "5eoGo2r3nOuP"
   },
   "outputs": [],
   "source": [
    "y_test = to_categorical(y_test , num_classes=5)"
   ]
  },
  {
   "cell_type": "code",
   "execution_count": 31,
   "metadata": {
    "colab": {
     "base_uri": "https://localhost:8080/"
    },
    "id": "fK5rakzLaxkI",
    "outputId": "ef2bff98-9f5d-40c5-ea6c-8396b7a6c4d2"
   },
   "outputs": [
    {
     "data": {
      "text/plain": [
       "((132, 5), (56, 5))"
      ]
     },
     "execution_count": 31,
     "metadata": {},
     "output_type": "execute_result"
    }
   ],
   "source": [
    "y_train.shape , y_test.shape"
   ]
  },
  {
   "cell_type": "markdown",
   "metadata": {
    "id": "2vuhKRVosKSb"
   },
   "source": [
    "# Apply SMOTE to handle imbalanced dataset"
   ]
  },
  {
   "cell_type": "code",
   "execution_count": 32,
   "metadata": {
    "colab": {
     "base_uri": "https://localhost:8080/"
    },
    "id": "HaT5nrnOsJtm",
    "outputId": "899a73cb-84cf-40d0-baf6-51b78bd34d2c"
   },
   "outputs": [],
   "source": [
    "from imblearn.over_sampling import SMOTE"
   ]
  },
  {
   "cell_type": "code",
   "execution_count": 33,
   "metadata": {
    "colab": {
     "base_uri": "https://localhost:8080/"
    },
    "id": "AjpW3NMSsJej",
    "outputId": "e984bebb-9a08-416f-d11e-eca5b47cd51f"
   },
   "outputs": [
    {
     "data": {
      "text/plain": [
       "(132, 10, 50)"
      ]
     },
     "execution_count": 33,
     "metadata": {},
     "output_type": "execute_result"
    }
   ],
   "source": [
    "embedding_matrix_train.shape"
   ]
  },
  {
   "cell_type": "code",
   "execution_count": 34,
   "metadata": {
    "id": "Ho2pYDAVsJbP"
   },
   "outputs": [],
   "source": [
    "embedding_matrix_train = embedding_matrix_train.reshape(-1, maxlen*50)"
   ]
  },
  {
   "cell_type": "code",
   "execution_count": 35,
   "metadata": {
    "colab": {
     "base_uri": "https://localhost:8080/"
    },
    "id": "BnaSsmfYsJY2",
    "outputId": "a756b460-0741-4be1-f506-b9e43703e347"
   },
   "outputs": [
    {
     "data": {
      "text/plain": [
       "(132, 500)"
      ]
     },
     "execution_count": 35,
     "metadata": {},
     "output_type": "execute_result"
    }
   ],
   "source": [
    "embedding_matrix_train.shape"
   ]
  },
  {
   "cell_type": "code",
   "execution_count": 36,
   "metadata": {
    "colab": {
     "base_uri": "https://localhost:8080/"
    },
    "id": "-NpcXFmFsp91",
    "outputId": "a699c07a-bc39-496f-d793-ad24dbcbd1c7"
   },
   "outputs": [
    {
     "name": "stderr",
     "output_type": "stream",
     "text": [
      "C:\\Users\\KUSH\\Anaconda3\\envs\\tf\\lib\\site-packages\\sklearn\\utils\\validation.py:70: FutureWarning: Pass classes=[0 1 2 3 4] as keyword args. From version 1.0 (renaming of 0.25) passing these as positional arguments will result in an error\n",
      "  warnings.warn(f\"Pass {args_msg} as keyword args. From version \"\n"
     ]
    }
   ],
   "source": [
    "oversample = SMOTE()\n",
    "X, y = oversample.fit_resample(embedding_matrix_train, y_train)"
   ]
  },
  {
   "cell_type": "code",
   "execution_count": 37,
   "metadata": {
    "colab": {
     "base_uri": "https://localhost:8080/"
    },
    "id": "BdrQWB_Msp6H",
    "outputId": "342e0d75-49bd-430f-90e7-d184e4132677"
   },
   "outputs": [
    {
     "data": {
      "text/plain": [
       "((190, 10, 50), (190, 5))"
      ]
     },
     "execution_count": 37,
     "metadata": {},
     "output_type": "execute_result"
    }
   ],
   "source": [
    "X = X.reshape(-1,maxlen,50)\n",
    "X.shape, y.shape"
   ]
  },
  {
   "cell_type": "markdown",
   "metadata": {
    "id": "Vst6RoArZnhj"
   },
   "source": [
    "# Define the LSTM model\n",
    "\n"
   ]
  },
  {
   "cell_type": "code",
   "execution_count": 38,
   "metadata": {
    "id": "cInUyckxV7H5"
   },
   "outputs": [],
   "source": [
    "from keras.models import Sequential\n",
    "from keras.layers import *"
   ]
  },
  {
   "cell_type": "code",
   "execution_count": 39,
   "metadata": {
    "colab": {
     "base_uri": "https://localhost:8080/"
    },
    "id": "etyHpE37ZykA",
    "outputId": "cbcd6f7e-fbc5-412a-9bed-7176e6bbed9f"
   },
   "outputs": [
    {
     "name": "stdout",
     "output_type": "stream",
     "text": [
      "Model: \"sequential\"\n",
      "_________________________________________________________________\n",
      "Layer (type)                 Output Shape              Param #   \n",
      "=================================================================\n",
      "lstm (LSTM)                  (None, 10, 64)            29440     \n",
      "_________________________________________________________________\n",
      "dropout (Dropout)            (None, 10, 64)            0         \n",
      "_________________________________________________________________\n",
      "lstm_1 (LSTM)                (None, 64)                33024     \n",
      "_________________________________________________________________\n",
      "dropout_1 (Dropout)          (None, 64)                0         \n",
      "_________________________________________________________________\n",
      "dense (Dense)                (None, 5)                 325       \n",
      "=================================================================\n",
      "Total params: 62,789\n",
      "Trainable params: 62,789\n",
      "Non-trainable params: 0\n",
      "_________________________________________________________________\n"
     ]
    }
   ],
   "source": [
    "model = Sequential()\n",
    "model.add(LSTM(units = 64 ,return_sequences=True, input_shape = (maxlen,50)))\n",
    "model.add(Dropout(0.5))\n",
    "model.add(LSTM(units = 64))\n",
    "model.add(Dropout(0.5))\n",
    "model.add(Dense(units=5 , activation = 'softmax'))\n",
    "model.compile(loss='categorical_crossentropy' , optimizer='Adam' , metrics=['accuracy'])\n",
    "model.summary()"
   ]
  },
  {
   "cell_type": "code",
   "execution_count": 40,
   "metadata": {
    "colab": {
     "base_uri": "https://localhost:8080/"
    },
    "id": "qgO_Y8ePajr7",
    "outputId": "8f642185-c338-49e8-e484-bf32b78dbc22"
   },
   "outputs": [
    {
     "name": "stdout",
     "output_type": "stream",
     "text": [
      "Epoch 1/100\n",
      "3/3 [==============================] - 3s 880ms/step - loss: 1.6178 - accuracy: 0.1974 - val_loss: 1.6658 - val_accuracy: 0.0263\n",
      "Epoch 2/100\n",
      "3/3 [==============================] - 0s 19ms/step - loss: 1.5643 - accuracy: 0.3092 - val_loss: 1.7389 - val_accuracy: 0.0526\n",
      "Epoch 3/100\n",
      "3/3 [==============================] - 0s 18ms/step - loss: 1.5290 - accuracy: 0.3355 - val_loss: 1.7862 - val_accuracy: 0.0526\n",
      "Epoch 4/100\n",
      "3/3 [==============================] - 0s 19ms/step - loss: 1.4826 - accuracy: 0.3355 - val_loss: 1.8057 - val_accuracy: 0.0526\n",
      "Epoch 5/100\n",
      "3/3 [==============================] - 0s 18ms/step - loss: 1.4553 - accuracy: 0.4079 - val_loss: 1.7688 - val_accuracy: 0.1316\n",
      "Epoch 6/100\n",
      "3/3 [==============================] - 0s 17ms/step - loss: 1.4155 - accuracy: 0.3684 - val_loss: 1.7101 - val_accuracy: 0.1579\n",
      "Epoch 7/100\n",
      "3/3 [==============================] - 0s 25ms/step - loss: 1.3845 - accuracy: 0.4408 - val_loss: 1.6324 - val_accuracy: 0.2368\n",
      "Epoch 8/100\n",
      "3/3 [==============================] - 0s 19ms/step - loss: 1.3055 - accuracy: 0.4408 - val_loss: 1.4958 - val_accuracy: 0.3947\n",
      "Epoch 9/100\n",
      "3/3 [==============================] - 0s 17ms/step - loss: 1.2485 - accuracy: 0.4868 - val_loss: 1.3643 - val_accuracy: 0.4737\n",
      "Epoch 10/100\n",
      "3/3 [==============================] - 0s 16ms/step - loss: 1.2171 - accuracy: 0.5000 - val_loss: 1.2581 - val_accuracy: 0.5263\n",
      "Epoch 11/100\n",
      "3/3 [==============================] - 0s 13ms/step - loss: 1.1311 - accuracy: 0.5461 - val_loss: 1.1441 - val_accuracy: 0.5789\n",
      "Epoch 12/100\n",
      "3/3 [==============================] - 0s 14ms/step - loss: 1.0612 - accuracy: 0.5395 - val_loss: 1.0056 - val_accuracy: 0.6053\n",
      "Epoch 13/100\n",
      "3/3 [==============================] - 0s 26ms/step - loss: 0.9842 - accuracy: 0.5461 - val_loss: 0.8147 - val_accuracy: 0.7368\n",
      "Epoch 14/100\n",
      "3/3 [==============================] - 0s 21ms/step - loss: 0.9774 - accuracy: 0.6184 - val_loss: 0.6962 - val_accuracy: 0.8684\n",
      "Epoch 15/100\n",
      "3/3 [==============================] - 0s 19ms/step - loss: 0.8976 - accuracy: 0.6908 - val_loss: 0.6176 - val_accuracy: 0.9474\n",
      "Epoch 16/100\n",
      "3/3 [==============================] - 0s 13ms/step - loss: 0.7976 - accuracy: 0.6974 - val_loss: 0.5545 - val_accuracy: 0.9211\n",
      "Epoch 17/100\n",
      "3/3 [==============================] - 0s 13ms/step - loss: 0.7568 - accuracy: 0.7237 - val_loss: 0.4594 - val_accuracy: 0.9474\n",
      "Epoch 18/100\n",
      "3/3 [==============================] - 0s 22ms/step - loss: 0.7066 - accuracy: 0.7434 - val_loss: 0.3276 - val_accuracy: 1.0000\n",
      "Epoch 19/100\n",
      "3/3 [==============================] - 0s 19ms/step - loss: 0.6934 - accuracy: 0.7368 - val_loss: 0.2708 - val_accuracy: 1.0000\n",
      "Epoch 20/100\n",
      "3/3 [==============================] - 0s 20ms/step - loss: 0.6142 - accuracy: 0.7632 - val_loss: 0.2910 - val_accuracy: 0.9737\n",
      "Epoch 21/100\n",
      "3/3 [==============================] - 0s 15ms/step - loss: 0.5832 - accuracy: 0.7961 - val_loss: 0.2251 - val_accuracy: 0.9737\n",
      "Epoch 22/100\n",
      "3/3 [==============================] - 0s 16ms/step - loss: 0.5624 - accuracy: 0.8158 - val_loss: 0.1793 - val_accuracy: 1.0000\n",
      "Epoch 23/100\n",
      "3/3 [==============================] - 0s 15ms/step - loss: 0.5070 - accuracy: 0.8289 - val_loss: 0.2401 - val_accuracy: 0.9737\n",
      "Epoch 24/100\n",
      "3/3 [==============================] - 0s 22ms/step - loss: 0.5169 - accuracy: 0.8158 - val_loss: 0.1769 - val_accuracy: 1.0000\n",
      "Epoch 25/100\n",
      "3/3 [==============================] - 0s 19ms/step - loss: 0.4472 - accuracy: 0.8487 - val_loss: 0.1340 - val_accuracy: 1.0000\n",
      "Epoch 26/100\n",
      "3/3 [==============================] - 0s 16ms/step - loss: 0.4057 - accuracy: 0.8684 - val_loss: 0.1230 - val_accuracy: 1.0000\n",
      "Epoch 27/100\n",
      "3/3 [==============================] - 0s 17ms/step - loss: 0.4071 - accuracy: 0.8684 - val_loss: 0.1122 - val_accuracy: 1.0000\n",
      "Epoch 28/100\n",
      "3/3 [==============================] - 0s 19ms/step - loss: 0.3456 - accuracy: 0.9013 - val_loss: 0.1053 - val_accuracy: 1.0000\n",
      "Epoch 29/100\n",
      "3/3 [==============================] - 0s 17ms/step - loss: 0.3493 - accuracy: 0.8816 - val_loss: 0.1093 - val_accuracy: 1.0000\n",
      "Epoch 30/100\n",
      "3/3 [==============================] - 0s 17ms/step - loss: 0.3624 - accuracy: 0.8882 - val_loss: 0.0902 - val_accuracy: 1.0000\n",
      "Epoch 31/100\n",
      "3/3 [==============================] - 0s 19ms/step - loss: 0.3726 - accuracy: 0.8684 - val_loss: 0.0801 - val_accuracy: 1.0000\n",
      "Epoch 32/100\n",
      "3/3 [==============================] - 0s 23ms/step - loss: 0.3091 - accuracy: 0.8882 - val_loss: 0.0802 - val_accuracy: 1.0000\n",
      "Epoch 33/100\n",
      "3/3 [==============================] - 0s 16ms/step - loss: 0.2955 - accuracy: 0.9211 - val_loss: 0.0737 - val_accuracy: 1.0000\n",
      "Epoch 34/100\n",
      "3/3 [==============================] - 0s 19ms/step - loss: 0.2781 - accuracy: 0.9013 - val_loss: 0.0778 - val_accuracy: 1.0000\n",
      "Epoch 35/100\n",
      "3/3 [==============================] - 0s 19ms/step - loss: 0.2281 - accuracy: 0.9276 - val_loss: 0.0968 - val_accuracy: 1.0000\n",
      "Epoch 36/100\n",
      "3/3 [==============================] - 0s 17ms/step - loss: 0.2813 - accuracy: 0.9013 - val_loss: 0.0875 - val_accuracy: 1.0000\n",
      "Epoch 37/100\n",
      "3/3 [==============================] - 0s 16ms/step - loss: 0.2314 - accuracy: 0.9211 - val_loss: 0.0592 - val_accuracy: 1.0000\n",
      "Epoch 38/100\n",
      "3/3 [==============================] - 0s 15ms/step - loss: 0.2308 - accuracy: 0.9276 - val_loss: 0.0560 - val_accuracy: 1.0000\n",
      "Epoch 39/100\n",
      "3/3 [==============================] - 0s 15ms/step - loss: 0.2143 - accuracy: 0.9408 - val_loss: 0.0683 - val_accuracy: 1.0000\n",
      "Epoch 40/100\n",
      "3/3 [==============================] - 0s 15ms/step - loss: 0.1688 - accuracy: 0.9605 - val_loss: 0.0865 - val_accuracy: 1.0000\n",
      "Epoch 41/100\n",
      "3/3 [==============================] - 0s 17ms/step - loss: 0.1376 - accuracy: 0.9671 - val_loss: 0.0675 - val_accuracy: 1.0000\n",
      "Epoch 42/100\n",
      "3/3 [==============================] - 0s 16ms/step - loss: 0.1569 - accuracy: 0.9605 - val_loss: 0.0403 - val_accuracy: 1.0000\n",
      "Epoch 43/100\n",
      "3/3 [==============================] - 0s 20ms/step - loss: 0.2083 - accuracy: 0.9474 - val_loss: 0.0327 - val_accuracy: 1.0000\n",
      "Epoch 44/100\n",
      "3/3 [==============================] - 0s 16ms/step - loss: 0.1976 - accuracy: 0.9342 - val_loss: 0.0371 - val_accuracy: 1.0000\n",
      "Epoch 45/100\n",
      "3/3 [==============================] - 0s 18ms/step - loss: 0.2273 - accuracy: 0.9342 - val_loss: 0.0270 - val_accuracy: 1.0000\n",
      "Epoch 46/100\n",
      "3/3 [==============================] - 0s 14ms/step - loss: 0.2572 - accuracy: 0.9211 - val_loss: 0.0275 - val_accuracy: 1.0000\n",
      "Epoch 47/100\n",
      "3/3 [==============================] - 0s 15ms/step - loss: 0.1823 - accuracy: 0.9474 - val_loss: 0.0356 - val_accuracy: 1.0000\n",
      "Epoch 48/100\n",
      "3/3 [==============================] - 0s 15ms/step - loss: 0.1694 - accuracy: 0.9605 - val_loss: 0.0333 - val_accuracy: 1.0000\n",
      "Epoch 49/100\n",
      "3/3 [==============================] - 0s 15ms/step - loss: 0.1317 - accuracy: 0.9605 - val_loss: 0.0252 - val_accuracy: 1.0000\n",
      "Epoch 50/100\n",
      "3/3 [==============================] - 0s 18ms/step - loss: 0.1704 - accuracy: 0.9342 - val_loss: 0.0241 - val_accuracy: 1.0000\n",
      "Epoch 51/100\n",
      "3/3 [==============================] - 0s 15ms/step - loss: 0.1318 - accuracy: 0.9737 - val_loss: 0.0240 - val_accuracy: 1.0000\n",
      "Epoch 52/100\n",
      "3/3 [==============================] - 0s 22ms/step - loss: 0.1066 - accuracy: 0.9737 - val_loss: 0.0255 - val_accuracy: 1.0000\n",
      "Epoch 53/100\n",
      "3/3 [==============================] - 0s 17ms/step - loss: 0.1383 - accuracy: 0.9539 - val_loss: 0.0216 - val_accuracy: 1.0000\n",
      "Epoch 54/100\n",
      "3/3 [==============================] - 0s 20ms/step - loss: 0.0946 - accuracy: 0.9803 - val_loss: 0.0184 - val_accuracy: 1.0000\n",
      "Epoch 55/100\n",
      "3/3 [==============================] - 0s 20ms/step - loss: 0.0949 - accuracy: 0.9803 - val_loss: 0.0172 - val_accuracy: 1.0000\n",
      "Epoch 56/100\n",
      "3/3 [==============================] - 0s 23ms/step - loss: 0.0773 - accuracy: 0.9671 - val_loss: 0.0178 - val_accuracy: 1.0000\n",
      "Epoch 57/100\n",
      "3/3 [==============================] - 0s 17ms/step - loss: 0.0761 - accuracy: 0.9803 - val_loss: 0.0195 - val_accuracy: 1.0000\n",
      "Epoch 58/100\n",
      "3/3 [==============================] - 0s 14ms/step - loss: 0.0656 - accuracy: 0.9868 - val_loss: 0.0196 - val_accuracy: 1.0000\n",
      "Epoch 59/100\n"
     ]
    },
    {
     "name": "stdout",
     "output_type": "stream",
     "text": [
      "3/3 [==============================] - 0s 16ms/step - loss: 0.0643 - accuracy: 0.9868 - val_loss: 0.0185 - val_accuracy: 1.0000\n",
      "Epoch 60/100\n",
      "3/3 [==============================] - 0s 14ms/step - loss: 0.0999 - accuracy: 0.9737 - val_loss: 0.0144 - val_accuracy: 1.0000\n",
      "Epoch 61/100\n",
      "3/3 [==============================] - 0s 15ms/step - loss: 0.0532 - accuracy: 0.9934 - val_loss: 0.0120 - val_accuracy: 1.0000\n",
      "Epoch 62/100\n",
      "3/3 [==============================] - 0s 15ms/step - loss: 0.0757 - accuracy: 0.9737 - val_loss: 0.0104 - val_accuracy: 1.0000\n",
      "Epoch 63/100\n",
      "3/3 [==============================] - 0s 15ms/step - loss: 0.0474 - accuracy: 0.9868 - val_loss: 0.0104 - val_accuracy: 1.0000\n",
      "Epoch 64/100\n",
      "3/3 [==============================] - 0s 18ms/step - loss: 0.0637 - accuracy: 0.9737 - val_loss: 0.0122 - val_accuracy: 1.0000\n",
      "Epoch 65/100\n",
      "3/3 [==============================] - 0s 16ms/step - loss: 0.0437 - accuracy: 0.9868 - val_loss: 0.0196 - val_accuracy: 1.0000\n",
      "Epoch 66/100\n",
      "3/3 [==============================] - 0s 16ms/step - loss: 0.0621 - accuracy: 0.9803 - val_loss: 0.0141 - val_accuracy: 1.0000\n",
      "Epoch 67/100\n",
      "3/3 [==============================] - 0s 14ms/step - loss: 0.0327 - accuracy: 1.0000 - val_loss: 0.0100 - val_accuracy: 1.0000\n",
      "Epoch 68/100\n",
      "3/3 [==============================] - 0s 17ms/step - loss: 0.0257 - accuracy: 1.0000 - val_loss: 0.0084 - val_accuracy: 1.0000\n",
      "Epoch 69/100\n",
      "3/3 [==============================] - 0s 15ms/step - loss: 0.0375 - accuracy: 0.9934 - val_loss: 0.0077 - val_accuracy: 1.0000\n",
      "Epoch 70/100\n",
      "3/3 [==============================] - 0s 15ms/step - loss: 0.0413 - accuracy: 0.9868 - val_loss: 0.0072 - val_accuracy: 1.0000\n",
      "Epoch 71/100\n",
      "3/3 [==============================] - 0s 14ms/step - loss: 0.0344 - accuracy: 0.9934 - val_loss: 0.0065 - val_accuracy: 1.0000\n",
      "Epoch 72/100\n",
      "3/3 [==============================] - 0s 18ms/step - loss: 0.0298 - accuracy: 1.0000 - val_loss: 0.0060 - val_accuracy: 1.0000\n",
      "Epoch 73/100\n",
      "3/3 [==============================] - 0s 16ms/step - loss: 0.0441 - accuracy: 0.9868 - val_loss: 0.0060 - val_accuracy: 1.0000\n",
      "Epoch 74/100\n",
      "3/3 [==============================] - 0s 18ms/step - loss: 0.0278 - accuracy: 1.0000 - val_loss: 0.0074 - val_accuracy: 1.0000\n",
      "Epoch 75/100\n",
      "3/3 [==============================] - 0s 21ms/step - loss: 0.0369 - accuracy: 0.9868 - val_loss: 0.0081 - val_accuracy: 1.0000\n",
      "Epoch 76/100\n",
      "3/3 [==============================] - 0s 23ms/step - loss: 0.0604 - accuracy: 0.9737 - val_loss: 0.0059 - val_accuracy: 1.0000\n",
      "Epoch 77/100\n",
      "3/3 [==============================] - 0s 22ms/step - loss: 0.0219 - accuracy: 1.0000 - val_loss: 0.0071 - val_accuracy: 1.0000\n",
      "Epoch 78/100\n",
      "3/3 [==============================] - 0s 25ms/step - loss: 0.1690 - accuracy: 0.9474 - val_loss: 0.0053 - val_accuracy: 1.0000\n",
      "Epoch 79/100\n",
      "3/3 [==============================] - 0s 24ms/step - loss: 0.0330 - accuracy: 0.9934 - val_loss: 0.0069 - val_accuracy: 1.0000\n",
      "Epoch 80/100\n",
      "3/3 [==============================] - 0s 22ms/step - loss: 0.1148 - accuracy: 0.9408 - val_loss: 0.0049 - val_accuracy: 1.0000\n",
      "Epoch 81/100\n",
      "3/3 [==============================] - 0s 21ms/step - loss: 0.1342 - accuracy: 0.9539 - val_loss: 0.0056 - val_accuracy: 1.0000\n",
      "Epoch 82/100\n",
      "3/3 [==============================] - 0s 19ms/step - loss: 0.0535 - accuracy: 0.9868 - val_loss: 0.0243 - val_accuracy: 1.0000\n",
      "Epoch 83/100\n",
      "3/3 [==============================] - 0s 18ms/step - loss: 0.2126 - accuracy: 0.9145 - val_loss: 0.0105 - val_accuracy: 1.0000\n",
      "Epoch 84/100\n",
      "3/3 [==============================] - 0s 15ms/step - loss: 0.0761 - accuracy: 0.9803 - val_loss: 0.0057 - val_accuracy: 1.0000\n",
      "Epoch 85/100\n",
      "3/3 [==============================] - 0s 15ms/step - loss: 0.0576 - accuracy: 0.9803 - val_loss: 0.0053 - val_accuracy: 1.0000\n",
      "Epoch 86/100\n",
      "3/3 [==============================] - 0s 14ms/step - loss: 0.0812 - accuracy: 0.9803 - val_loss: 0.0055 - val_accuracy: 1.0000\n",
      "Epoch 87/100\n",
      "3/3 [==============================] - 0s 16ms/step - loss: 0.0481 - accuracy: 0.9803 - val_loss: 0.0084 - val_accuracy: 1.0000\n",
      "Epoch 88/100\n",
      "3/3 [==============================] - 0s 15ms/step - loss: 0.0238 - accuracy: 1.0000 - val_loss: 0.0182 - val_accuracy: 1.0000\n",
      "Epoch 89/100\n",
      "3/3 [==============================] - 0s 17ms/step - loss: 0.0465 - accuracy: 0.9934 - val_loss: 0.0217 - val_accuracy: 1.0000\n",
      "Epoch 90/100\n",
      "3/3 [==============================] - 0s 18ms/step - loss: 0.0607 - accuracy: 0.9737 - val_loss: 0.0115 - val_accuracy: 1.0000\n",
      "Epoch 91/100\n",
      "3/3 [==============================] - 0s 20ms/step - loss: 0.0231 - accuracy: 1.0000 - val_loss: 0.0074 - val_accuracy: 1.0000\n",
      "Epoch 92/100\n",
      "3/3 [==============================] - 0s 16ms/step - loss: 0.0297 - accuracy: 1.0000 - val_loss: 0.0054 - val_accuracy: 1.0000\n",
      "Epoch 93/100\n",
      "3/3 [==============================] - 0s 17ms/step - loss: 0.0234 - accuracy: 1.0000 - val_loss: 0.0048 - val_accuracy: 1.0000\n",
      "Epoch 94/100\n",
      "3/3 [==============================] - 0s 18ms/step - loss: 0.0210 - accuracy: 1.0000 - val_loss: 0.0045 - val_accuracy: 1.0000\n",
      "Epoch 95/100\n",
      "3/3 [==============================] - 0s 19ms/step - loss: 0.0168 - accuracy: 1.0000 - val_loss: 0.0044 - val_accuracy: 1.0000\n",
      "Epoch 96/100\n",
      "3/3 [==============================] - 0s 20ms/step - loss: 0.0128 - accuracy: 1.0000 - val_loss: 0.0043 - val_accuracy: 1.0000\n",
      "Epoch 97/100\n",
      "3/3 [==============================] - 0s 21ms/step - loss: 0.0175 - accuracy: 1.0000 - val_loss: 0.0043 - val_accuracy: 1.0000\n",
      "Epoch 98/100\n",
      "3/3 [==============================] - 0s 19ms/step - loss: 0.0133 - accuracy: 1.0000 - val_loss: 0.0040 - val_accuracy: 1.0000\n",
      "Epoch 99/100\n",
      "3/3 [==============================] - 0s 19ms/step - loss: 0.0105 - accuracy: 1.0000 - val_loss: 0.0038 - val_accuracy: 1.0000\n",
      "Epoch 100/100\n",
      "3/3 [==============================] - 0s 18ms/step - loss: 0.0083 - accuracy: 1.0000 - val_loss: 0.0037 - val_accuracy: 1.0000\n"
     ]
    }
   ],
   "source": [
    "hist = model.fit(X,y,epochs=100,batch_size=64,shuffle=True,validation_split=0.2)"
   ]
  },
  {
   "cell_type": "code",
   "execution_count": 41,
   "metadata": {
    "colab": {
     "base_uri": "https://localhost:8080/"
    },
    "id": "oC6L3KnsddPU",
    "outputId": "595449e1-9b69-4afa-f04c-4235288ae629"
   },
   "outputs": [
    {
     "name": "stdout",
     "output_type": "stream",
     "text": [
      "2/2 [==============================] - 0s 2ms/step - loss: 1.5119 - accuracy: 0.6964\n"
     ]
    },
    {
     "data": {
      "text/plain": [
       "[1.5119274854660034, 0.6964285969734192]"
      ]
     },
     "execution_count": 41,
     "metadata": {},
     "output_type": "execute_result"
    }
   ],
   "source": [
    "model.evaluate(embedding_matrix_test,y_test)"
   ]
  },
  {
   "cell_type": "markdown",
   "metadata": {
    "id": "xLYm0aYaweX2"
   },
   "source": [
    "Preparing the emoji dictionary"
   ]
  },
  {
   "cell_type": "code",
   "execution_count": 42,
   "metadata": {
    "id": "LSAaAx39nG0Y"
   },
   "outputs": [],
   "source": [
    "import emoji"
   ]
  },
  {
   "cell_type": "code",
   "execution_count": 43,
   "metadata": {
    "id": "yCd8K5gPuY0o"
   },
   "outputs": [],
   "source": [
    "emoji_dictionary = {\n",
    "                    \"0\": \"\\u2764\\uFE0F\",\n",
    "                    \"1\": \":baseball:\",\n",
    "                    \"2\": \":grinning_face_with_big_eyes:\",\n",
    "                    \"3\": \":disappointed_face:\",\n",
    "                    \"4\": \":fork_and_knife:\"\n",
    "                    }"
   ]
  },
  {
   "cell_type": "code",
   "execution_count": 44,
   "metadata": {
    "colab": {
     "base_uri": "https://localhost:8080/",
     "height": 35
    },
    "id": "sycZyM_9u6GT",
    "outputId": "efafdfc1-8ad5-4fa6-aea0-e8dfbfde929d"
   },
   "outputs": [
    {
     "data": {
      "text/plain": [
       "'⚾'"
      ]
     },
     "execution_count": 44,
     "metadata": {},
     "output_type": "execute_result"
    }
   ],
   "source": [
    "emoji.emojize(\":baseball:\")"
   ]
  },
  {
   "cell_type": "markdown",
   "metadata": {
    "id": "ym5kWmqpwkFL"
   },
   "source": [
    "Dispplay output on test dataset"
   ]
  },
  {
   "cell_type": "code",
   "execution_count": 45,
   "metadata": {
    "colab": {
     "base_uri": "https://localhost:8080/"
    },
    "id": "PVdkchTswWyQ",
    "outputId": "294aa2db-1c95-4337-b7f5-555ca0a508f5"
   },
   "outputs": [
    {
     "name": "stdout",
     "output_type": "stream",
     "text": [
      "WARNING:tensorflow:From <ipython-input-45-0f633212efc7>:1: Sequential.predict_classes (from tensorflow.python.keras.engine.sequential) is deprecated and will be removed after 2021-01-01.\n",
      "Instructions for updating:\n",
      "Please use instead:* `np.argmax(model.predict(x), axis=-1)`,   if your model does multi-class classification   (e.g. if it uses a `softmax` last-layer activation).* `(model.predict(x) > 0.5).astype(\"int32\")`,   if your model does binary classification   (e.g. if it uses a `sigmoid` last-layer activation).\n"
     ]
    }
   ],
   "source": [
    "y_pred = model.predict_classes(embedding_matrix_test)"
   ]
  },
  {
   "cell_type": "code",
   "execution_count": 46,
   "metadata": {
    "colab": {
     "base_uri": "https://localhost:8080/"
    },
    "id": "xxKE2zorwsUH",
    "outputId": "d5bfd81b-b9ac-4caf-bf8f-b9312fb9c53e"
   },
   "outputs": [
    {
     "name": "stdout",
     "output_type": "stream",
     "text": [
      "I want to eat\n",
      "🍴\n",
      "🍴\n",
      "he did not answer\n",
      "😞\n",
      "😞\n",
      "he got a raise\n",
      "😃\n",
      "😞\n",
      "she got me a present\n",
      "❤️\n",
      "❤️\n",
      "ha ha ha it was so funny\n",
      "😃\n",
      "😃\n",
      "he is a good friend\n",
      "❤️\n",
      "😃\n",
      "I am upset\n",
      "❤️\n",
      "😞\n",
      "We had such a lovely dinner tonight\n",
      "❤️\n",
      "😃\n",
      "where is the food\n",
      "🍴\n",
      "🍴\n",
      "Stop making this joke ha ha ha\n",
      "😃\n",
      "😃\n",
      "where is the ball\n",
      "⚾\n",
      "⚾\n",
      "work is hard\n",
      "😞\n",
      "😞\n",
      "This girl is messing with me\n",
      "😞\n",
      "❤️\n",
      "are you serious ha ha\n",
      "😃\n",
      "😃\n",
      "Let us go play baseball\n",
      "⚾\n",
      "⚾\n",
      "This stupid grader is not working\n",
      "😞\n",
      "😞\n",
      "work is horrible\n",
      "😞\n",
      "😞\n",
      "Congratulation for having a baby\n",
      "😃\n",
      "😃\n",
      "stop messing around\n",
      "😞\n",
      "⚾\n",
      "any suggestions for dinner\n",
      "🍴\n",
      "🍴\n",
      "I love taking breaks\n",
      "❤️\n",
      "❤️\n",
      "you brighten my day\n",
      "😃\n",
      "😃\n",
      "I boiled rice\n",
      "🍴\n",
      "🍴\n",
      "she is a bully\n",
      "😞\n",
      "❤️\n",
      "Why are you feeling bad\n",
      "😞\n",
      "😞\n",
      "I am upset\n",
      "😞\n",
      "😞\n",
      "I worked during my birthday\n",
      "😞\n",
      "😃\n",
      "My grandmother is the love of my life\n",
      "❤️\n",
      "❤️\n",
      "enjoy your break\n",
      "😃\n",
      "⚾\n",
      "valentine day is near\n",
      "❤️\n",
      "😃\n",
      "I miss you so much\n",
      "❤️\n",
      "❤️\n",
      "throw the ball\n",
      "⚾\n",
      "⚾\n",
      "My life is so boring\n",
      "😞\n",
      "❤️\n",
      "she said yes\n",
      "😃\n",
      "😃\n",
      "will you be my valentine\n",
      "❤️\n",
      "❤️\n",
      "he can pitch really well\n",
      "⚾\n",
      "⚾\n",
      "dance with me\n",
      "😃\n",
      "😃\n",
      "I am starving\n",
      "🍴\n",
      "🍴\n",
      "See you at the restaurant\n",
      "🍴\n",
      "🍴\n",
      "I like to laugh\n",
      "😃\n",
      "😃\n",
      "I will go dance\n",
      "😃\n",
      "⚾\n",
      "I like your jacket\n",
      "😃\n",
      "❤️\n",
      "i miss her\n",
      "❤️\n",
      "❤️\n",
      "what is your favorite baseball game\n",
      "⚾\n",
      "⚾\n",
      "Good job\n",
      "😃\n",
      "😃\n",
      "I love to the stars and back\n",
      "❤️\n",
      "⚾\n",
      "What you did was awesome\n",
      "😃\n",
      "😃\n",
      "ha ha ha lol\n",
      "😃\n",
      "😃\n",
      "I want to joke\n",
      "😃\n",
      "😞\n",
      "go away\n",
      "😞\n",
      "⚾\n",
      "yesterday we lost again\n",
      "😞\n",
      "😞\n",
      "family is all I have\n",
      "❤️\n",
      "❤️\n",
      "you are failing this exercise\n",
      "😞\n",
      "😞\n",
      "Good joke\n",
      "😃\n",
      "😃\n",
      "You totally deserve this prize\n",
      "😃\n",
      "😃\n",
      "I did not have breakfast\n",
      "😞\n",
      "🍴\n"
     ]
    }
   ],
   "source": [
    "for i in range(len(y_pred)):\n",
    "  print(' '.join(X_test[i]))\n",
    "  print(emoji.emojize(emoji_dictionary[str(np.argmax(y_test[i]))]))\n",
    "  print(emoji.emojize(emoji_dictionary[str(y_pred[i])]))"
   ]
  },
  {
   "cell_type": "markdown",
   "metadata": {
    "id": "Uev5woguOFZK"
   },
   "source": [
    "# Saving the model"
   ]
  },
  {
   "cell_type": "code",
   "execution_count": 48,
   "metadata": {
    "colab": {
     "base_uri": "https://localhost:8080/"
    },
    "id": "8N_Z0NPmw6GH",
    "outputId": "cdb6ebf9-8aa0-402b-f6ff-d55c269daddd"
   },
   "outputs": [
    {
     "name": "stdout",
     "output_type": "stream",
     "text": [
      "INFO:tensorflow:Assets written to: model.pkl\\assets\n"
     ]
    }
   ],
   "source": [
    "model.save('model.pkl')"
   ]
  },
  {
   "cell_type": "markdown",
   "metadata": {
    "id": "7lYCDjrIPdHD"
   },
   "source": [
    "Load the model and make predictions"
   ]
  },
  {
   "cell_type": "code",
   "execution_count": 49,
   "metadata": {
    "id": "-tYTzi9TOZi8"
   },
   "outputs": [],
   "source": [
    "from tensorflow import keras\n",
    "model = keras.models.load_model('model.pkl')"
   ]
  },
  {
   "cell_type": "code",
   "execution_count": 50,
   "metadata": {
    "colab": {
     "base_uri": "https://localhost:8080/"
    },
    "id": "bR6ux-8CPLUq",
    "outputId": "93286ef3-06f7-440d-d5f6-ba92c77673a3"
   },
   "outputs": [],
   "source": [
    "y_pred = model.predict_classes(embedding_matrix_test)"
   ]
  },
  {
   "cell_type": "code",
   "execution_count": 51,
   "metadata": {
    "colab": {
     "base_uri": "https://localhost:8080/"
    },
    "id": "tZccIC5BPhpd",
    "outputId": "c9dbe2bc-91b1-412f-de22-913c4864db44"
   },
   "outputs": [
    {
     "name": "stdout",
     "output_type": "stream",
     "text": [
      "I want to eat\n",
      "🍴\n",
      "🍴\n",
      "he did not answer\n",
      "😞\n",
      "😞\n",
      "he got a raise\n",
      "😃\n",
      "😞\n",
      "she got me a present\n",
      "❤️\n",
      "❤️\n",
      "ha ha ha it was so funny\n",
      "😃\n",
      "😃\n",
      "he is a good friend\n",
      "❤️\n",
      "😃\n",
      "I am upset\n",
      "❤️\n",
      "😞\n",
      "We had such a lovely dinner tonight\n",
      "❤️\n",
      "😃\n",
      "where is the food\n",
      "🍴\n",
      "🍴\n",
      "Stop making this joke ha ha ha\n",
      "😃\n",
      "😃\n",
      "where is the ball\n",
      "⚾\n",
      "⚾\n",
      "work is hard\n",
      "😞\n",
      "😞\n",
      "This girl is messing with me\n",
      "😞\n",
      "❤️\n",
      "are you serious ha ha\n",
      "😃\n",
      "😃\n",
      "Let us go play baseball\n",
      "⚾\n",
      "⚾\n",
      "This stupid grader is not working\n",
      "😞\n",
      "😞\n",
      "work is horrible\n",
      "😞\n",
      "😞\n",
      "Congratulation for having a baby\n",
      "😃\n",
      "😃\n",
      "stop messing around\n",
      "😞\n",
      "⚾\n",
      "any suggestions for dinner\n",
      "🍴\n",
      "🍴\n",
      "I love taking breaks\n",
      "❤️\n",
      "❤️\n",
      "you brighten my day\n",
      "😃\n",
      "😃\n",
      "I boiled rice\n",
      "🍴\n",
      "🍴\n",
      "she is a bully\n",
      "😞\n",
      "❤️\n",
      "Why are you feeling bad\n",
      "😞\n",
      "😞\n",
      "I am upset\n",
      "😞\n",
      "😞\n",
      "I worked during my birthday\n",
      "😞\n",
      "😃\n",
      "My grandmother is the love of my life\n",
      "❤️\n",
      "❤️\n",
      "enjoy your break\n",
      "😃\n",
      "⚾\n",
      "valentine day is near\n",
      "❤️\n",
      "😃\n",
      "I miss you so much\n",
      "❤️\n",
      "❤️\n",
      "throw the ball\n",
      "⚾\n",
      "⚾\n",
      "My life is so boring\n",
      "😞\n",
      "❤️\n",
      "she said yes\n",
      "😃\n",
      "😃\n",
      "will you be my valentine\n",
      "❤️\n",
      "❤️\n",
      "he can pitch really well\n",
      "⚾\n",
      "⚾\n",
      "dance with me\n",
      "😃\n",
      "😃\n",
      "I am starving\n",
      "🍴\n",
      "🍴\n",
      "See you at the restaurant\n",
      "🍴\n",
      "🍴\n",
      "I like to laugh\n",
      "😃\n",
      "😃\n",
      "I will go dance\n",
      "😃\n",
      "⚾\n",
      "I like your jacket\n",
      "😃\n",
      "❤️\n",
      "i miss her\n",
      "❤️\n",
      "❤️\n",
      "what is your favorite baseball game\n",
      "⚾\n",
      "⚾\n",
      "Good job\n",
      "😃\n",
      "😃\n",
      "I love to the stars and back\n",
      "❤️\n",
      "⚾\n",
      "What you did was awesome\n",
      "😃\n",
      "😃\n",
      "ha ha ha lol\n",
      "😃\n",
      "😃\n",
      "I want to joke\n",
      "😃\n",
      "😞\n",
      "go away\n",
      "😞\n",
      "⚾\n",
      "yesterday we lost again\n",
      "😞\n",
      "😞\n",
      "family is all I have\n",
      "❤️\n",
      "❤️\n",
      "you are failing this exercise\n",
      "😞\n",
      "😞\n",
      "Good joke\n",
      "😃\n",
      "😃\n",
      "You totally deserve this prize\n",
      "😃\n",
      "😃\n",
      "I did not have breakfast\n",
      "😞\n",
      "🍴\n"
     ]
    }
   ],
   "source": [
    "for i in range(len(y_pred)):\n",
    "  print(' '.join(X_test[i]))\n",
    "  print(emoji.emojize(emoji_dictionary[str(np.argmax(y_test[i]))]))\n",
    "  print(emoji.emojize(emoji_dictionary[str(y_pred[i])]))"
   ]
  },
  {
   "cell_type": "code",
   "execution_count": 60,
   "metadata": {
    "id": "ms2_ZH6LPk8L"
   },
   "outputs": [],
   "source": [
    "text = \"i want food\"\n",
    "t = pd.Series(text) "
   ]
  },
  {
   "cell_type": "code",
   "execution_count": 61,
   "metadata": {
    "id": "S-Bcr3K1R57c"
   },
   "outputs": [],
   "source": [
    "emb_out = embedding_output(t)"
   ]
  },
  {
   "cell_type": "code",
   "execution_count": 62,
   "metadata": {
    "colab": {
     "base_uri": "https://localhost:8080/"
    },
    "id": "fLNti_RrWrhZ",
    "outputId": "b372bb46-502d-4e66-f527-2fab1abbf67f"
   },
   "outputs": [
    {
     "data": {
      "text/plain": [
       "array([[[ 1.1891e-01,  1.5255e-01, -8.2073e-02, -7.4144e-01,\n",
       "          7.5917e-01, -4.8328e-01, -3.1009e-01,  5.1476e-01,\n",
       "         -9.8708e-01,  6.1757e-04, -1.5043e-01,  8.3770e-01,\n",
       "         -1.0797e+00, -5.1460e-01,  1.3188e+00,  6.2007e-01,\n",
       "          1.3779e-01,  4.7108e-01, -7.2874e-02, -7.2675e-01,\n",
       "         -7.4116e-01,  7.5263e-01,  8.8180e-01,  2.9561e-01,\n",
       "          1.3548e+00, -2.5701e+00, -1.3523e+00,  4.5880e-01,\n",
       "          1.0068e+00, -1.1856e+00,  3.4737e+00,  7.7898e-01,\n",
       "         -7.2929e-01,  2.5102e-01, -2.6156e-01, -3.4684e-01,\n",
       "          5.5841e-01,  7.5098e-01,  4.9830e-01, -2.6823e-01,\n",
       "         -2.7443e-03, -1.8298e-02, -2.8096e-01,  5.5318e-01,\n",
       "          3.7706e-02,  1.8555e-01, -1.5025e-01, -5.7512e-01,\n",
       "         -2.6671e-01,  9.2121e-01],\n",
       "        [ 1.3627e-01, -5.4478e-02,  3.7030e-01, -4.1574e-01,\n",
       "          6.0568e-01, -4.2729e-01, -5.0151e-01,  3.5923e-01,\n",
       "         -4.9154e-01,  2.1827e-01, -1.5193e-01,  5.2536e-01,\n",
       "         -2.4206e-01,  2.3875e-02,  8.2250e-01,  1.0890e+00,\n",
       "          9.8825e-01, -1.7803e-01,  7.7806e-01, -1.0647e+00,\n",
       "         -2.8742e-01,  5.0458e-01,  2.1612e-01,  6.5681e-01,\n",
       "          3.4295e-01, -2.1084e+00, -8.2557e-01, -3.1966e-01,\n",
       "          8.7567e-01, -1.0679e+00,  3.3802e+00,  1.2084e+00,\n",
       "         -1.2720e+00, -1.5921e-01, -2.5237e-01, -2.6960e-01,\n",
       "         -1.8756e-01, -3.5523e-01,  8.4172e-02, -5.6539e-01,\n",
       "         -2.4081e-01,  1.5926e-01,  3.2870e-01,  5.4591e-01,\n",
       "          2.9897e-01,  1.8948e-01, -5.7113e-01,  1.7399e-01,\n",
       "         -1.9338e-01,  5.1921e-01],\n",
       "        [ 4.7222e-01, -4.4545e-01, -5.1833e-01, -2.6818e-01,\n",
       "          4.4427e-01, -2.5108e-01, -9.9282e-01, -9.0198e-01,\n",
       "          1.8729e+00,  3.9081e-02,  1.4284e-01,  7.4878e-02,\n",
       "          1.0543e+00, -3.2030e-01,  1.0722e+00,  4.4323e-01,\n",
       "          9.9484e-03,  1.5754e-01,  5.1399e-01, -7.7668e-01,\n",
       "          9.2400e-01,  1.0958e-02,  5.8815e-01,  2.3078e-01,\n",
       "         -3.4281e-01, -8.8444e-01, -3.1492e-01,  1.2661e-01,\n",
       "          1.1445e+00,  6.0775e-01,  3.4344e+00,  6.3561e-01,\n",
       "         -1.3832e-01,  2.8045e-01, -1.6181e-01,  7.7541e-01,\n",
       "         -4.9888e-01,  4.6020e-01,  9.1799e-01,  2.9007e-01,\n",
       "          6.8840e-02,  5.9978e-01,  5.3967e-01, -6.1752e-02,\n",
       "          1.2975e+00,  9.2323e-01, -8.0945e-01,  3.4932e-01,\n",
       "          3.3934e-01,  2.5499e-01],\n",
       "        [ 0.0000e+00,  0.0000e+00,  0.0000e+00,  0.0000e+00,\n",
       "          0.0000e+00,  0.0000e+00,  0.0000e+00,  0.0000e+00,\n",
       "          0.0000e+00,  0.0000e+00,  0.0000e+00,  0.0000e+00,\n",
       "          0.0000e+00,  0.0000e+00,  0.0000e+00,  0.0000e+00,\n",
       "          0.0000e+00,  0.0000e+00,  0.0000e+00,  0.0000e+00,\n",
       "          0.0000e+00,  0.0000e+00,  0.0000e+00,  0.0000e+00,\n",
       "          0.0000e+00,  0.0000e+00,  0.0000e+00,  0.0000e+00,\n",
       "          0.0000e+00,  0.0000e+00,  0.0000e+00,  0.0000e+00,\n",
       "          0.0000e+00,  0.0000e+00,  0.0000e+00,  0.0000e+00,\n",
       "          0.0000e+00,  0.0000e+00,  0.0000e+00,  0.0000e+00,\n",
       "          0.0000e+00,  0.0000e+00,  0.0000e+00,  0.0000e+00,\n",
       "          0.0000e+00,  0.0000e+00,  0.0000e+00,  0.0000e+00,\n",
       "          0.0000e+00,  0.0000e+00],\n",
       "        [ 0.0000e+00,  0.0000e+00,  0.0000e+00,  0.0000e+00,\n",
       "          0.0000e+00,  0.0000e+00,  0.0000e+00,  0.0000e+00,\n",
       "          0.0000e+00,  0.0000e+00,  0.0000e+00,  0.0000e+00,\n",
       "          0.0000e+00,  0.0000e+00,  0.0000e+00,  0.0000e+00,\n",
       "          0.0000e+00,  0.0000e+00,  0.0000e+00,  0.0000e+00,\n",
       "          0.0000e+00,  0.0000e+00,  0.0000e+00,  0.0000e+00,\n",
       "          0.0000e+00,  0.0000e+00,  0.0000e+00,  0.0000e+00,\n",
       "          0.0000e+00,  0.0000e+00,  0.0000e+00,  0.0000e+00,\n",
       "          0.0000e+00,  0.0000e+00,  0.0000e+00,  0.0000e+00,\n",
       "          0.0000e+00,  0.0000e+00,  0.0000e+00,  0.0000e+00,\n",
       "          0.0000e+00,  0.0000e+00,  0.0000e+00,  0.0000e+00,\n",
       "          0.0000e+00,  0.0000e+00,  0.0000e+00,  0.0000e+00,\n",
       "          0.0000e+00,  0.0000e+00],\n",
       "        [ 0.0000e+00,  0.0000e+00,  0.0000e+00,  0.0000e+00,\n",
       "          0.0000e+00,  0.0000e+00,  0.0000e+00,  0.0000e+00,\n",
       "          0.0000e+00,  0.0000e+00,  0.0000e+00,  0.0000e+00,\n",
       "          0.0000e+00,  0.0000e+00,  0.0000e+00,  0.0000e+00,\n",
       "          0.0000e+00,  0.0000e+00,  0.0000e+00,  0.0000e+00,\n",
       "          0.0000e+00,  0.0000e+00,  0.0000e+00,  0.0000e+00,\n",
       "          0.0000e+00,  0.0000e+00,  0.0000e+00,  0.0000e+00,\n",
       "          0.0000e+00,  0.0000e+00,  0.0000e+00,  0.0000e+00,\n",
       "          0.0000e+00,  0.0000e+00,  0.0000e+00,  0.0000e+00,\n",
       "          0.0000e+00,  0.0000e+00,  0.0000e+00,  0.0000e+00,\n",
       "          0.0000e+00,  0.0000e+00,  0.0000e+00,  0.0000e+00,\n",
       "          0.0000e+00,  0.0000e+00,  0.0000e+00,  0.0000e+00,\n",
       "          0.0000e+00,  0.0000e+00],\n",
       "        [ 0.0000e+00,  0.0000e+00,  0.0000e+00,  0.0000e+00,\n",
       "          0.0000e+00,  0.0000e+00,  0.0000e+00,  0.0000e+00,\n",
       "          0.0000e+00,  0.0000e+00,  0.0000e+00,  0.0000e+00,\n",
       "          0.0000e+00,  0.0000e+00,  0.0000e+00,  0.0000e+00,\n",
       "          0.0000e+00,  0.0000e+00,  0.0000e+00,  0.0000e+00,\n",
       "          0.0000e+00,  0.0000e+00,  0.0000e+00,  0.0000e+00,\n",
       "          0.0000e+00,  0.0000e+00,  0.0000e+00,  0.0000e+00,\n",
       "          0.0000e+00,  0.0000e+00,  0.0000e+00,  0.0000e+00,\n",
       "          0.0000e+00,  0.0000e+00,  0.0000e+00,  0.0000e+00,\n",
       "          0.0000e+00,  0.0000e+00,  0.0000e+00,  0.0000e+00,\n",
       "          0.0000e+00,  0.0000e+00,  0.0000e+00,  0.0000e+00,\n",
       "          0.0000e+00,  0.0000e+00,  0.0000e+00,  0.0000e+00,\n",
       "          0.0000e+00,  0.0000e+00],\n",
       "        [ 0.0000e+00,  0.0000e+00,  0.0000e+00,  0.0000e+00,\n",
       "          0.0000e+00,  0.0000e+00,  0.0000e+00,  0.0000e+00,\n",
       "          0.0000e+00,  0.0000e+00,  0.0000e+00,  0.0000e+00,\n",
       "          0.0000e+00,  0.0000e+00,  0.0000e+00,  0.0000e+00,\n",
       "          0.0000e+00,  0.0000e+00,  0.0000e+00,  0.0000e+00,\n",
       "          0.0000e+00,  0.0000e+00,  0.0000e+00,  0.0000e+00,\n",
       "          0.0000e+00,  0.0000e+00,  0.0000e+00,  0.0000e+00,\n",
       "          0.0000e+00,  0.0000e+00,  0.0000e+00,  0.0000e+00,\n",
       "          0.0000e+00,  0.0000e+00,  0.0000e+00,  0.0000e+00,\n",
       "          0.0000e+00,  0.0000e+00,  0.0000e+00,  0.0000e+00,\n",
       "          0.0000e+00,  0.0000e+00,  0.0000e+00,  0.0000e+00,\n",
       "          0.0000e+00,  0.0000e+00,  0.0000e+00,  0.0000e+00,\n",
       "          0.0000e+00,  0.0000e+00],\n",
       "        [ 0.0000e+00,  0.0000e+00,  0.0000e+00,  0.0000e+00,\n",
       "          0.0000e+00,  0.0000e+00,  0.0000e+00,  0.0000e+00,\n",
       "          0.0000e+00,  0.0000e+00,  0.0000e+00,  0.0000e+00,\n",
       "          0.0000e+00,  0.0000e+00,  0.0000e+00,  0.0000e+00,\n",
       "          0.0000e+00,  0.0000e+00,  0.0000e+00,  0.0000e+00,\n",
       "          0.0000e+00,  0.0000e+00,  0.0000e+00,  0.0000e+00,\n",
       "          0.0000e+00,  0.0000e+00,  0.0000e+00,  0.0000e+00,\n",
       "          0.0000e+00,  0.0000e+00,  0.0000e+00,  0.0000e+00,\n",
       "          0.0000e+00,  0.0000e+00,  0.0000e+00,  0.0000e+00,\n",
       "          0.0000e+00,  0.0000e+00,  0.0000e+00,  0.0000e+00,\n",
       "          0.0000e+00,  0.0000e+00,  0.0000e+00,  0.0000e+00,\n",
       "          0.0000e+00,  0.0000e+00,  0.0000e+00,  0.0000e+00,\n",
       "          0.0000e+00,  0.0000e+00],\n",
       "        [ 0.0000e+00,  0.0000e+00,  0.0000e+00,  0.0000e+00,\n",
       "          0.0000e+00,  0.0000e+00,  0.0000e+00,  0.0000e+00,\n",
       "          0.0000e+00,  0.0000e+00,  0.0000e+00,  0.0000e+00,\n",
       "          0.0000e+00,  0.0000e+00,  0.0000e+00,  0.0000e+00,\n",
       "          0.0000e+00,  0.0000e+00,  0.0000e+00,  0.0000e+00,\n",
       "          0.0000e+00,  0.0000e+00,  0.0000e+00,  0.0000e+00,\n",
       "          0.0000e+00,  0.0000e+00,  0.0000e+00,  0.0000e+00,\n",
       "          0.0000e+00,  0.0000e+00,  0.0000e+00,  0.0000e+00,\n",
       "          0.0000e+00,  0.0000e+00,  0.0000e+00,  0.0000e+00,\n",
       "          0.0000e+00,  0.0000e+00,  0.0000e+00,  0.0000e+00,\n",
       "          0.0000e+00,  0.0000e+00,  0.0000e+00,  0.0000e+00,\n",
       "          0.0000e+00,  0.0000e+00,  0.0000e+00,  0.0000e+00,\n",
       "          0.0000e+00,  0.0000e+00]]])"
      ]
     },
     "execution_count": 62,
     "metadata": {},
     "output_type": "execute_result"
    }
   ],
   "source": [
    "emb_out"
   ]
  },
  {
   "cell_type": "code",
   "execution_count": 63,
   "metadata": {
    "colab": {
     "base_uri": "https://localhost:8080/"
    },
    "id": "UQFXjEzIWwjq",
    "outputId": "17fd5ca4-b3dc-4272-bb13-0521eb0a855e"
   },
   "outputs": [],
   "source": [
    "p = model.predict_classes(emb_out)"
   ]
  },
  {
   "cell_type": "code",
   "execution_count": 64,
   "metadata": {
    "colab": {
     "base_uri": "https://localhost:8080/"
    },
    "id": "prpqpLeLXdaD",
    "outputId": "b68b91f1-bab5-417f-e8be-36962637c5c4"
   },
   "outputs": [
    {
     "name": "stdout",
     "output_type": "stream",
     "text": [
      "🍴\n"
     ]
    }
   ],
   "source": [
    "for i in range(len(p)):\n",
    "    print(emoji.emojize(emoji_dictionary[str(p[i])]))"
   ]
  },
  {
   "cell_type": "code",
   "execution_count": 68,
   "metadata": {
    "id": "_oTci6SgXfHX"
   },
   "outputs": [
    {
     "data": {
      "text/plain": [
       "str"
      ]
     },
     "execution_count": 68,
     "metadata": {},
     "output_type": "execute_result"
    }
   ],
   "source": [
    "type(emoji.emojize(emoji_dictionary[str(p[0])]))"
   ]
  },
  {
   "cell_type": "code",
   "execution_count": null,
   "metadata": {},
   "outputs": [],
   "source": []
  }
 ],
 "metadata": {
  "accelerator": "GPU",
  "colab": {
   "name": "emoji-predictor-model.ipynb",
   "provenance": [],
   "toc_visible": true
  },
  "kernelspec": {
   "display_name": "Python 3",
   "language": "python",
   "name": "python3"
  },
  "language_info": {
   "codemirror_mode": {
    "name": "ipython",
    "version": 3
   },
   "file_extension": ".py",
   "mimetype": "text/x-python",
   "name": "python",
   "nbconvert_exporter": "python",
   "pygments_lexer": "ipython3",
   "version": "3.8.5"
  }
 },
 "nbformat": 4,
 "nbformat_minor": 1
}
