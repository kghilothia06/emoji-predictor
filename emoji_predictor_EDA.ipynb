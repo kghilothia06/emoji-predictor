{
  "nbformat": 4,
  "nbformat_minor": 0,
  "metadata": {
    "kernelspec": {
      "display_name": "Python 3",
      "language": "python",
      "name": "python3"
    },
    "language_info": {
      "codemirror_mode": {
        "name": "ipython",
        "version": 3
      },
      "file_extension": ".py",
      "mimetype": "text/x-python",
      "name": "python",
      "nbconvert_exporter": "python",
      "pygments_lexer": "ipython3",
      "version": "3.7.1"
    },
    "colab": {
      "name": "emoji-predictor-EDA.ipynb",
      "provenance": [],
      "toc_visible": true,
      "include_colab_link": true
    }
  },
  "cells": [
    {
      "cell_type": "markdown",
      "metadata": {
        "id": "view-in-github",
        "colab_type": "text"
      },
      "source": [
        "<a href=\"https://colab.research.google.com/github/kghilothia06/emoji-predictor/blob/main/emoji_predictor_EDA.ipynb\" target=\"_parent\"><img src=\"https://colab.research.google.com/assets/colab-badge.svg\" alt=\"Open In Colab\"/></a>"
      ]
    },
    {
      "cell_type": "markdown",
      "metadata": {
        "id": "n4p2QNwsV7HQ"
      },
      "source": [
        "## **Data Pre-Processing**"
      ]
    },
    {
      "cell_type": "code",
      "metadata": {
        "colab": {
          "base_uri": "https://localhost:8080/"
        },
        "id": "CFfIBLGZWdic",
        "outputId": "90842f42-ab1b-49b3-b0ab-5966ff2102ba"
      },
      "source": [
        "from google.colab import drive\r\n",
        "drive.mount('/content/drive')"
      ],
      "execution_count": 3,
      "outputs": [
        {
          "output_type": "stream",
          "text": [
            "Drive already mounted at /content/drive; to attempt to forcibly remount, call drive.mount(\"/content/drive\", force_remount=True).\n"
          ],
          "name": "stdout"
        }
      ]
    },
    {
      "cell_type": "code",
      "metadata": {
        "id": "uG2bz68zV7HT"
      },
      "source": [
        "import pandas as pd\n",
        "import numpy as np"
      ],
      "execution_count": null,
      "outputs": []
    },
    {
      "cell_type": "code",
      "metadata": {
        "id": "O_epj4MqV7HV"
      },
      "source": [
        "df_train = pd.read_csv('/content/drive/MyDrive/emoji-predictor/Train.csv')\n",
        "df_train.drop('Unnamed: 0',axis=1,inplace=True)"
      ],
      "execution_count": 4,
      "outputs": []
    },
    {
      "cell_type": "code",
      "metadata": {
        "id": "sKTQA8bTV7HY",
        "colab": {
          "base_uri": "https://localhost:8080/"
        },
        "outputId": "f80f1d8b-8334-40c8-88ae-05856ef0320a"
      },
      "source": [
        "df_train.shape"
      ],
      "execution_count": 5,
      "outputs": [
        {
          "output_type": "execute_result",
          "data": {
            "text/plain": [
              "(70000, 2)"
            ]
          },
          "metadata": {
            "tags": []
          },
          "execution_count": 5
        }
      ]
    },
    {
      "cell_type": "code",
      "metadata": {
        "id": "p4EJU8EKV7Hc",
        "colab": {
          "base_uri": "https://localhost:8080/",
          "height": 355
        },
        "outputId": "93dd22f1-8780-4b2c-af22-b26f61d83772"
      },
      "source": [
        "df_train.head(10)"
      ],
      "execution_count": 6,
      "outputs": [
        {
          "output_type": "execute_result",
          "data": {
            "text/html": [
              "<div>\n",
              "<style scoped>\n",
              "    .dataframe tbody tr th:only-of-type {\n",
              "        vertical-align: middle;\n",
              "    }\n",
              "\n",
              "    .dataframe tbody tr th {\n",
              "        vertical-align: top;\n",
              "    }\n",
              "\n",
              "    .dataframe thead th {\n",
              "        text-align: right;\n",
              "    }\n",
              "</style>\n",
              "<table border=\"1\" class=\"dataframe\">\n",
              "  <thead>\n",
              "    <tr style=\"text-align: right;\">\n",
              "      <th></th>\n",
              "      <th>TEXT</th>\n",
              "      <th>Label</th>\n",
              "    </tr>\n",
              "  </thead>\n",
              "  <tbody>\n",
              "    <tr>\n",
              "      <th>0</th>\n",
              "      <td>Vacation wasted ! #vacation2017 #photobomb #ti...</td>\n",
              "      <td>0</td>\n",
              "    </tr>\n",
              "    <tr>\n",
              "      <th>1</th>\n",
              "      <td>Oh Wynwood, you’re so funny! : @user #Wynwood ...</td>\n",
              "      <td>1</td>\n",
              "    </tr>\n",
              "    <tr>\n",
              "      <th>2</th>\n",
              "      <td>Been friends since 7th grade. Look at us now w...</td>\n",
              "      <td>2</td>\n",
              "    </tr>\n",
              "    <tr>\n",
              "      <th>3</th>\n",
              "      <td>This is what it looks like when someone loves ...</td>\n",
              "      <td>3</td>\n",
              "    </tr>\n",
              "    <tr>\n",
              "      <th>4</th>\n",
              "      <td>RT @user this white family was invited to a Bl...</td>\n",
              "      <td>3</td>\n",
              "    </tr>\n",
              "    <tr>\n",
              "      <th>5</th>\n",
              "      <td>TRACK SEASON 2016, I'M READY FOR YA @ Universi...</td>\n",
              "      <td>4</td>\n",
              "    </tr>\n",
              "    <tr>\n",
              "      <th>6</th>\n",
              "      <td>Merry Christmas you filthy little animals. Wea...</td>\n",
              "      <td>5</td>\n",
              "    </tr>\n",
              "    <tr>\n",
              "      <th>7</th>\n",
              "      <td>Westenders @user #LAZzNation @ Weston, Toronto\\n</td>\n",
              "      <td>6</td>\n",
              "    </tr>\n",
              "    <tr>\n",
              "      <th>8</th>\n",
              "      <td>Maxwell heads home @ Summa Akron City Hospital\\n</td>\n",
              "      <td>2</td>\n",
              "    </tr>\n",
              "    <tr>\n",
              "      <th>9</th>\n",
              "      <td>Story On Saturday 136 Collins Ave, Miami Beach...</td>\n",
              "      <td>7</td>\n",
              "    </tr>\n",
              "  </tbody>\n",
              "</table>\n",
              "</div>"
            ],
            "text/plain": [
              "                                                TEXT  Label\n",
              "0  Vacation wasted ! #vacation2017 #photobomb #ti...      0\n",
              "1  Oh Wynwood, you’re so funny! : @user #Wynwood ...      1\n",
              "2  Been friends since 7th grade. Look at us now w...      2\n",
              "3  This is what it looks like when someone loves ...      3\n",
              "4  RT @user this white family was invited to a Bl...      3\n",
              "5  TRACK SEASON 2016, I'M READY FOR YA @ Universi...      4\n",
              "6  Merry Christmas you filthy little animals. Wea...      5\n",
              "7   Westenders @user #LAZzNation @ Weston, Toronto\\n      6\n",
              "8   Maxwell heads home @ Summa Akron City Hospital\\n      2\n",
              "9  Story On Saturday 136 Collins Ave, Miami Beach...      7"
            ]
          },
          "metadata": {
            "tags": []
          },
          "execution_count": 6
        }
      ]
    },
    {
      "cell_type": "code",
      "metadata": {
        "id": "l9HXH3PsV7Hd"
      },
      "source": [
        "mapp = pd.read_csv('/content/drive/MyDrive/emoji-predictor/Mapping.csv')\n",
        "mapp.drop('Unnamed: 0',axis=1,inplace=True)"
      ],
      "execution_count": 7,
      "outputs": []
    },
    {
      "cell_type": "code",
      "metadata": {
        "id": "YqC7Lcn6V7He",
        "colab": {
          "base_uri": "https://localhost:8080/",
          "height": 662
        },
        "outputId": "d94b2aa3-1880-4af6-fd3a-bef0e0501146"
      },
      "source": [
        "mapp"
      ],
      "execution_count": 8,
      "outputs": [
        {
          "output_type": "execute_result",
          "data": {
            "text/html": [
              "<div>\n",
              "<style scoped>\n",
              "    .dataframe tbody tr th:only-of-type {\n",
              "        vertical-align: middle;\n",
              "    }\n",
              "\n",
              "    .dataframe tbody tr th {\n",
              "        vertical-align: top;\n",
              "    }\n",
              "\n",
              "    .dataframe thead th {\n",
              "        text-align: right;\n",
              "    }\n",
              "</style>\n",
              "<table border=\"1\" class=\"dataframe\">\n",
              "  <thead>\n",
              "    <tr style=\"text-align: right;\">\n",
              "      <th></th>\n",
              "      <th>emoticons</th>\n",
              "      <th>number</th>\n",
              "    </tr>\n",
              "  </thead>\n",
              "  <tbody>\n",
              "    <tr>\n",
              "      <th>0</th>\n",
              "      <td>😜</td>\n",
              "      <td>0</td>\n",
              "    </tr>\n",
              "    <tr>\n",
              "      <th>1</th>\n",
              "      <td>📸</td>\n",
              "      <td>1</td>\n",
              "    </tr>\n",
              "    <tr>\n",
              "      <th>2</th>\n",
              "      <td>😍</td>\n",
              "      <td>2</td>\n",
              "    </tr>\n",
              "    <tr>\n",
              "      <th>3</th>\n",
              "      <td>😂</td>\n",
              "      <td>3</td>\n",
              "    </tr>\n",
              "    <tr>\n",
              "      <th>4</th>\n",
              "      <td>😉</td>\n",
              "      <td>4</td>\n",
              "    </tr>\n",
              "    <tr>\n",
              "      <th>5</th>\n",
              "      <td>🎄</td>\n",
              "      <td>5</td>\n",
              "    </tr>\n",
              "    <tr>\n",
              "      <th>6</th>\n",
              "      <td>📷</td>\n",
              "      <td>6</td>\n",
              "    </tr>\n",
              "    <tr>\n",
              "      <th>7</th>\n",
              "      <td>🔥</td>\n",
              "      <td>7</td>\n",
              "    </tr>\n",
              "    <tr>\n",
              "      <th>8</th>\n",
              "      <td>😘</td>\n",
              "      <td>8</td>\n",
              "    </tr>\n",
              "    <tr>\n",
              "      <th>9</th>\n",
              "      <td>❤</td>\n",
              "      <td>9</td>\n",
              "    </tr>\n",
              "    <tr>\n",
              "      <th>10</th>\n",
              "      <td>😁</td>\n",
              "      <td>10</td>\n",
              "    </tr>\n",
              "    <tr>\n",
              "      <th>11</th>\n",
              "      <td>🇺🇸</td>\n",
              "      <td>11</td>\n",
              "    </tr>\n",
              "    <tr>\n",
              "      <th>12</th>\n",
              "      <td>☀</td>\n",
              "      <td>12</td>\n",
              "    </tr>\n",
              "    <tr>\n",
              "      <th>13</th>\n",
              "      <td>✨</td>\n",
              "      <td>13</td>\n",
              "    </tr>\n",
              "    <tr>\n",
              "      <th>14</th>\n",
              "      <td>💙</td>\n",
              "      <td>14</td>\n",
              "    </tr>\n",
              "    <tr>\n",
              "      <th>15</th>\n",
              "      <td>💕</td>\n",
              "      <td>15</td>\n",
              "    </tr>\n",
              "    <tr>\n",
              "      <th>16</th>\n",
              "      <td>😎</td>\n",
              "      <td>16</td>\n",
              "    </tr>\n",
              "    <tr>\n",
              "      <th>17</th>\n",
              "      <td>😊</td>\n",
              "      <td>17</td>\n",
              "    </tr>\n",
              "    <tr>\n",
              "      <th>18</th>\n",
              "      <td>💜</td>\n",
              "      <td>18</td>\n",
              "    </tr>\n",
              "    <tr>\n",
              "      <th>19</th>\n",
              "      <td>💯</td>\n",
              "      <td>19</td>\n",
              "    </tr>\n",
              "  </tbody>\n",
              "</table>\n",
              "</div>"
            ],
            "text/plain": [
              "   emoticons  number\n",
              "0          😜       0\n",
              "1          📸       1\n",
              "2          😍       2\n",
              "3          😂       3\n",
              "4          😉       4\n",
              "5          🎄       5\n",
              "6          📷       6\n",
              "7          🔥       7\n",
              "8          😘       8\n",
              "9          ❤       9\n",
              "10         😁      10\n",
              "11        🇺🇸      11\n",
              "12         ☀      12\n",
              "13         ✨      13\n",
              "14         💙      14\n",
              "15         💕      15\n",
              "16         😎      16\n",
              "17         😊      17\n",
              "18         💜      18\n",
              "19         💯      19"
            ]
          },
          "metadata": {
            "tags": []
          },
          "execution_count": 8
        }
      ]
    },
    {
      "cell_type": "code",
      "metadata": {
        "id": "lmp8YMvNV7Hg"
      },
      "source": [
        "df_test = pd.read_csv('/content/drive/MyDrive/emoji-predictor/Test.csv')\n",
        "df_test.drop('Unnamed: 0',axis=1,inplace=True)"
      ],
      "execution_count": 9,
      "outputs": []
    },
    {
      "cell_type": "code",
      "metadata": {
        "id": "wEb6dCmkV7Hh",
        "colab": {
          "base_uri": "https://localhost:8080/"
        },
        "outputId": "8902e2e0-8f36-4d5b-fe38-78c0c508e868"
      },
      "source": [
        "df_test.shape"
      ],
      "execution_count": 10,
      "outputs": [
        {
          "output_type": "execute_result",
          "data": {
            "text/plain": [
              "(25958, 2)"
            ]
          },
          "metadata": {
            "tags": []
          },
          "execution_count": 10
        }
      ]
    },
    {
      "cell_type": "code",
      "metadata": {
        "id": "u3CUazZlV7Hj",
        "colab": {
          "base_uri": "https://localhost:8080/",
          "height": 355
        },
        "outputId": "6d2a3185-dd89-415c-8039-04aaef05f783"
      },
      "source": [
        "df_test.head(10)"
      ],
      "execution_count": 11,
      "outputs": [
        {
          "output_type": "execute_result",
          "data": {
            "text/html": [
              "<div>\n",
              "<style scoped>\n",
              "    .dataframe tbody tr th:only-of-type {\n",
              "        vertical-align: middle;\n",
              "    }\n",
              "\n",
              "    .dataframe tbody tr th {\n",
              "        vertical-align: top;\n",
              "    }\n",
              "\n",
              "    .dataframe thead th {\n",
              "        text-align: right;\n",
              "    }\n",
              "</style>\n",
              "<table border=\"1\" class=\"dataframe\">\n",
              "  <thead>\n",
              "    <tr style=\"text-align: right;\">\n",
              "      <th></th>\n",
              "      <th>id</th>\n",
              "      <th>TEXT</th>\n",
              "    </tr>\n",
              "  </thead>\n",
              "  <tbody>\n",
              "    <tr>\n",
              "      <th>0</th>\n",
              "      <td>0</td>\n",
              "      <td>Thought this was cool...#Repost (get_repost)・・...</td>\n",
              "    </tr>\n",
              "    <tr>\n",
              "      <th>1</th>\n",
              "      <td>1</td>\n",
              "      <td>Happy 4th! Corte madera parade. #everytownusa ...</td>\n",
              "    </tr>\n",
              "    <tr>\n",
              "      <th>2</th>\n",
              "      <td>2</td>\n",
              "      <td>Luv. Or at least something close to it. @ Unio...</td>\n",
              "    </tr>\n",
              "    <tr>\n",
              "      <th>3</th>\n",
              "      <td>3</td>\n",
              "      <td>There's a slice of pie under that whipped crea...</td>\n",
              "    </tr>\n",
              "    <tr>\n",
              "      <th>4</th>\n",
              "      <td>5</td>\n",
              "      <td>#thankyou for your thank you We adore you both...</td>\n",
              "    </tr>\n",
              "    <tr>\n",
              "      <th>5</th>\n",
              "      <td>6</td>\n",
              "      <td>the SPECIAL4U Lyric video will be posted on my...</td>\n",
              "    </tr>\n",
              "    <tr>\n",
              "      <th>6</th>\n",
              "      <td>7</td>\n",
              "      <td>Momma Tanya's In town ! Awesome dinner @user w...</td>\n",
              "    </tr>\n",
              "    <tr>\n",
              "      <th>7</th>\n",
              "      <td>8</td>\n",
              "      <td>Thing 1 and Thing 2 @ Huron, Ohio\\n</td>\n",
              "    </tr>\n",
              "    <tr>\n",
              "      <th>8</th>\n",
              "      <td>10</td>\n",
              "      <td>Bday girl and some random @ Sheraton New York ...</td>\n",
              "    </tr>\n",
              "    <tr>\n",
              "      <th>9</th>\n",
              "      <td>11</td>\n",
              "      <td>Always fun with my forever wedding date Congra...</td>\n",
              "    </tr>\n",
              "  </tbody>\n",
              "</table>\n",
              "</div>"
            ],
            "text/plain": [
              "   id                                               TEXT\n",
              "0   0  Thought this was cool...#Repost (get_repost)・・...\n",
              "1   1  Happy 4th! Corte madera parade. #everytownusa ...\n",
              "2   2  Luv. Or at least something close to it. @ Unio...\n",
              "3   3  There's a slice of pie under that whipped crea...\n",
              "4   5  #thankyou for your thank you We adore you both...\n",
              "5   6  the SPECIAL4U Lyric video will be posted on my...\n",
              "6   7  Momma Tanya's In town ! Awesome dinner @user w...\n",
              "7   8                Thing 1 and Thing 2 @ Huron, Ohio\\n\n",
              "8  10  Bday girl and some random @ Sheraton New York ...\n",
              "9  11  Always fun with my forever wedding date Congra..."
            ]
          },
          "metadata": {
            "tags": []
          },
          "execution_count": 11
        }
      ]
    },
    {
      "cell_type": "code",
      "metadata": {
        "id": "1Mvjum7MV7Hk"
      },
      "source": [
        "X_train = df_train['TEXT']\n",
        "y_train = df_train['Label']\n",
        "\n",
        "X_test = df_test['TEXT']\n"
      ],
      "execution_count": 12,
      "outputs": []
    },
    {
      "cell_type": "code",
      "metadata": {
        "id": "HC9qgOeoV7Hl",
        "colab": {
          "base_uri": "https://localhost:8080/"
        },
        "outputId": "274eddbd-9780-4c70-c846-690768708a57"
      },
      "source": [
        "#figure out max length of a sentence in X_train and X_test\n",
        "maxlen=0\n",
        "for i in X_train:\n",
        "    maxlen = max(maxlen , len(i.split()))\n",
        "    #print(len(i.split()))\n",
        "\n",
        "for i in X_test:\n",
        "    maxlen = max(maxlen , len(i.split()))    \n",
        "\n",
        "print(maxlen)"
      ],
      "execution_count": 13,
      "outputs": [
        {
          "output_type": "stream",
          "text": [
            "34\n"
          ],
          "name": "stdout"
        }
      ]
    },
    {
      "cell_type": "code",
      "metadata": {
        "id": "0QRt6py-V7Hn",
        "colab": {
          "base_uri": "https://localhost:8080/"
        },
        "outputId": "7ac1eaf8-f806-46c8-f606-d1b97f501795"
      },
      "source": [
        "X_train.shape[0]"
      ],
      "execution_count": 14,
      "outputs": [
        {
          "output_type": "execute_result",
          "data": {
            "text/plain": [
              "70000"
            ]
          },
          "metadata": {
            "tags": []
          },
          "execution_count": 14
        }
      ]
    },
    {
      "cell_type": "code",
      "metadata": {
        "id": "_9fZh_9OV7Ho",
        "colab": {
          "base_uri": "https://localhost:8080/"
        },
        "outputId": "d44be083-2cb5-46d7-ee38-cac43c26dded"
      },
      "source": [
        "X_test.shape[0]"
      ],
      "execution_count": 15,
      "outputs": [
        {
          "output_type": "execute_result",
          "data": {
            "text/plain": [
              "25958"
            ]
          },
          "metadata": {
            "tags": []
          },
          "execution_count": 15
        }
      ]
    },
    {
      "cell_type": "code",
      "metadata": {
        "id": "YQSCQQAZV7Hr",
        "colab": {
          "base_uri": "https://localhost:8080/"
        },
        "outputId": "7a54c128-b262-4efe-df4b-4cd6d928393c"
      },
      "source": [
        "#tokenization of a sentence\n",
        "for ix in range(X_train.shape[0]):\n",
        "    fd = X_train[ix].split()\n",
        "    print(fd)\n",
        "    for ij in range(len(fd)):\n",
        "        print(fd[ij])\n",
        "    break"
      ],
      "execution_count": 16,
      "outputs": [
        {
          "output_type": "stream",
          "text": [
            "['Vacation', 'wasted', '!', '#vacation2017', '#photobomb', '#tired', '#vacationwasted', '#mcgar30', '#miami', '@', 'Port', 'of…']\n",
            "Vacation\n",
            "wasted\n",
            "!\n",
            "#vacation2017\n",
            "#photobomb\n",
            "#tired\n",
            "#vacationwasted\n",
            "#mcgar30\n",
            "#miami\n",
            "@\n",
            "Port\n",
            "of…\n"
          ],
          "name": "stdout"
        }
      ]
    },
    {
      "cell_type": "markdown",
      "metadata": {
        "id": "9rF9z4OIV7Hw"
      },
      "source": [
        "# Converting Sentences into embeddings \n",
        "# using Glove vector"
      ]
    },
    {
      "cell_type": "code",
      "metadata": {
        "id": "L5lcU4IpV7Hx"
      },
      "source": [
        "f = open('/content/drive/MyDrive/emoji-predictor/glove.6B.50d.txt' , encoding='utf8')"
      ],
      "execution_count": 18,
      "outputs": []
    },
    {
      "cell_type": "code",
      "metadata": {
        "id": "wJldOW6qV7Hy"
      },
      "source": [
        "#make our own word embedding dictionary\n",
        "embeddings_idx={}\n",
        "\n",
        "for line in f:\n",
        "    values = line.split()\n",
        "    #print(values[0])\n",
        "    #print(values[1:])\n",
        "    word = values[0]\n",
        "    coefs = np.asarray(values[1:],dtype='float')\n",
        "    #print(word,coefs)\n",
        "    embeddings_idx[word] = coefs\n",
        "\n",
        "f.close()"
      ],
      "execution_count": 19,
      "outputs": []
    },
    {
      "cell_type": "code",
      "metadata": {
        "id": "rumIDpU3V7Hz",
        "colab": {
          "base_uri": "https://localhost:8080/"
        },
        "outputId": "5fffc7fd-6a3b-466d-fdbc-8ee55f1afeee"
      },
      "source": [
        "embeddings_idx[\"miami\"]"
      ],
      "execution_count": 20,
      "outputs": [
        {
          "output_type": "execute_result",
          "data": {
            "text/plain": [
              "array([-0.59065 ,  0.48669 ,  0.23316 ,  1.0822  , -0.54907 , -0.96478 ,\n",
              "       -1.7694  ,  0.42558 , -0.062791,  0.36638 , -0.50417 , -0.55302 ,\n",
              "       -0.1254  ,  0.053595,  0.40962 , -0.35621 , -0.67128 , -0.47456 ,\n",
              "       -1.0363  ,  0.090297, -0.74212 ,  0.49953 , -0.35469 ,  0.084452,\n",
              "       -0.78938 , -1.3382  ,  0.33856 ,  0.012423,  0.51412 , -1.1261  ,\n",
              "        1.6678  ,  0.15947 , -0.40807 , -1.1751  ,  0.4861  , -0.085435,\n",
              "       -0.16804 , -0.14191 ,  0.88021 , -0.10223 , -0.6931  ,  0.62184 ,\n",
              "        0.28272 ,  0.13934 , -0.63042 ,  0.79863 , -0.21831 , -0.41622 ,\n",
              "       -0.15446 ,  0.58117 ])"
            ]
          },
          "metadata": {
            "tags": []
          },
          "execution_count": 20
        }
      ]
    },
    {
      "cell_type": "markdown",
      "metadata": {
        "id": "i-LL7ZsXV7H0"
      },
      "source": [
        "function to make word embeddings for each word in each sentence"
      ]
    },
    {
      "cell_type": "code",
      "metadata": {
        "id": "oumUbmuDV7H0"
      },
      "source": [
        "def embedding_output(X):\n",
        "    #maxlen of a sentence\n",
        "    maxlen = 50\n",
        "    #embedding dimension\n",
        "    emb_dim = 50\n",
        "    \n",
        "    batch_size = X.shape[0]\n",
        "    #output of the function\n",
        "    embedding_out = np.zeros((batch_size , maxlen , emb_dim))\n",
        "    \n",
        "    for ix in range(X.shape[0]):\n",
        "        #tokenize current sentence\n",
        "        X[ix] = X[ix].split()\n",
        "        \n",
        "        for ij in range(len(X[ix])):\n",
        "            #get current word's embedding from 'glove' embeddings iff that word is present \n",
        "            if X[ix][ij] in embeddings_idx.keys():\n",
        "                embedding_out[ix][ij] = embeddings_idx[X[ix][ij].lower()]\n",
        "    \n",
        "    return embedding_out\n",
        "    "
      ],
      "execution_count": 21,
      "outputs": []
    },
    {
      "cell_type": "code",
      "metadata": {
        "id": "kF0KMEP3V7H2",
        "colab": {
          "base_uri": "https://localhost:8080/"
        },
        "outputId": "9fe9b6b8-b851-4e05-e952-d24f30494030"
      },
      "source": [
        "embedding_matrix_train = embedding_output(X_train)\n",
        "embedding_matrix_test = embedding_output(X_test)"
      ],
      "execution_count": 22,
      "outputs": [
        {
          "output_type": "stream",
          "text": [
            "/usr/local/lib/python3.6/dist-packages/ipykernel_launcher.py:13: SettingWithCopyWarning: \n",
            "A value is trying to be set on a copy of a slice from a DataFrame\n",
            "\n",
            "See the caveats in the documentation: https://pandas.pydata.org/pandas-docs/stable/user_guide/indexing.html#returning-a-view-versus-a-copy\n",
            "  del sys.path[0]\n"
          ],
          "name": "stderr"
        }
      ]
    },
    {
      "cell_type": "code",
      "metadata": {
        "id": "ZanMJlhGV7H3",
        "colab": {
          "base_uri": "https://localhost:8080/"
        },
        "outputId": "00d7b49d-0b78-4041-9cc8-edb236e2b468"
      },
      "source": [
        "X_train[0]"
      ],
      "execution_count": 23,
      "outputs": [
        {
          "output_type": "execute_result",
          "data": {
            "text/plain": [
              "['Vacation',\n",
              " 'wasted',\n",
              " '!',\n",
              " '#vacation2017',\n",
              " '#photobomb',\n",
              " '#tired',\n",
              " '#vacationwasted',\n",
              " '#mcgar30',\n",
              " '#miami',\n",
              " '@',\n",
              " 'Port',\n",
              " 'of…']"
            ]
          },
          "metadata": {
            "tags": []
          },
          "execution_count": 23
        }
      ]
    },
    {
      "cell_type": "code",
      "metadata": {
        "id": "KsjBVLhhV7H4",
        "colab": {
          "base_uri": "https://localhost:8080/"
        },
        "outputId": "8b98980f-e853-4042-9a7c-2ea9a64febb8"
      },
      "source": [
        "embedding_matrix_train.shape"
      ],
      "execution_count": 24,
      "outputs": [
        {
          "output_type": "execute_result",
          "data": {
            "text/plain": [
              "(70000, 50, 50)"
            ]
          },
          "metadata": {
            "tags": []
          },
          "execution_count": 24
        }
      ]
    },
    {
      "cell_type": "code",
      "metadata": {
        "id": "kNNlyw_PV7H4",
        "colab": {
          "base_uri": "https://localhost:8080/"
        },
        "outputId": "abaf2227-efda-46e1-88a6-b77ddb4b40f9"
      },
      "source": [
        "embedding_matrix_test.shape"
      ],
      "execution_count": 25,
      "outputs": [
        {
          "output_type": "execute_result",
          "data": {
            "text/plain": [
              "(25958, 50, 50)"
            ]
          },
          "metadata": {
            "tags": []
          },
          "execution_count": 25
        }
      ]
    },
    {
      "cell_type": "code",
      "metadata": {
        "id": "cInUyckxV7H5"
      },
      "source": [
        ""
      ],
      "execution_count": null,
      "outputs": []
    }
  ]
}